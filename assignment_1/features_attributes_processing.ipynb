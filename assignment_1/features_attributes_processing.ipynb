{
 "cells": [
  {
   "cell_type": "code",
   "execution_count": 1,
   "id": "84cd841a-e8a8-4d8f-ae5c-83b9e5925096",
   "metadata": {},
   "outputs": [],
   "source": [
    "import os\n",
    "import glob\n",
    "import pandas as pd\n",
    "import matplotlib.pyplot as plt\n",
    "import seaborn as sns\n",
    "import numpy as np\n",
    "import random\n",
    "from datetime import datetime, timedelta\n",
    "from dateutil.relativedelta import relativedelta\n",
    "import pprint\n",
    "import pyspark\n",
    "import pyspark.sql.functions as F\n",
    "\n",
    "from pyspark.sql.functions import col\n",
    "from pyspark.sql.types import StringType, IntegerType, FloatType, DateType\n",
    "from pyspark.sql.types import StructType, StructField, StringType, IntegerType, DateType\n",
    "from pyspark.sql.window import Window\n",
    "\n",
    "from pyspark.ml.classification import LogisticRegression\n",
    "from pyspark.ml.feature import VectorAssembler\n",
    "from pyspark.ml.evaluation import BinaryClassificationEvaluator"
   ]
  },
  {
   "cell_type": "code",
   "execution_count": 2,
   "id": "bcdf71ff-313d-46b0-ba75-aee205db7a38",
   "metadata": {},
   "outputs": [
    {
     "name": "stderr",
     "output_type": "stream",
     "text": [
      "Setting default log level to \"WARN\".\n",
      "To adjust logging level use sc.setLogLevel(newLevel). For SparkR, use setLogLevel(newLevel).\n",
      "25/05/03 14:10:04 WARN NativeCodeLoader: Unable to load native-hadoop library for your platform... using builtin-java classes where applicable\n",
      "25/05/03 14:10:05 WARN Utils: Service 'SparkUI' could not bind on port 4040. Attempting port 4041.\n"
     ]
    }
   ],
   "source": [
    "# Initialize SparkSession\n",
    "spark = pyspark.sql.SparkSession.builder \\\n",
    "    .appName(\"dev\") \\\n",
    "    .master(\"local[*]\") \\\n",
    "    .getOrCreate()\n",
    "\n",
    "# Set log level to ERROR to hide warnings\n",
    "spark.sparkContext.setLogLevel(\"ERROR\")"
   ]
  },
  {
   "cell_type": "code",
   "execution_count": 3,
   "id": "3199b6ec-23e1-4c40-afb9-70f265215eb7",
   "metadata": {},
   "outputs": [],
   "source": [
    "# set up config\n",
    "snapshot_date_str = \"2023-01-01\"\n",
    "\n",
    "start_date_str = \"2023-01-01\"\n",
    "end_date_str = \"2024-12-01\""
   ]
  },
  {
   "cell_type": "code",
   "execution_count": 4,
   "id": "f19384fa-a0a4-4f96-9c02-cf1a528432ed",
   "metadata": {},
   "outputs": [
    {
     "data": {
      "text/plain": [
       "['2023-01-01',\n",
       " '2023-02-01',\n",
       " '2023-03-01',\n",
       " '2023-04-01',\n",
       " '2023-05-01',\n",
       " '2023-06-01',\n",
       " '2023-07-01',\n",
       " '2023-08-01',\n",
       " '2023-09-01',\n",
       " '2023-10-01',\n",
       " '2023-11-01',\n",
       " '2023-12-01',\n",
       " '2024-01-01',\n",
       " '2024-02-01',\n",
       " '2024-03-01',\n",
       " '2024-04-01',\n",
       " '2024-05-01',\n",
       " '2024-06-01',\n",
       " '2024-07-01',\n",
       " '2024-08-01',\n",
       " '2024-09-01',\n",
       " '2024-10-01',\n",
       " '2024-11-01',\n",
       " '2024-12-01']"
      ]
     },
     "execution_count": 4,
     "metadata": {},
     "output_type": "execute_result"
    }
   ],
   "source": [
    "# generate list of dates to process\n",
    "def generate_first_of_month_dates(start_date_str, end_date_str):\n",
    "    # Convert the date strings to datetime objects\n",
    "    start_date = datetime.strptime(start_date_str, \"%Y-%m-%d\")\n",
    "    end_date = datetime.strptime(end_date_str, \"%Y-%m-%d\")\n",
    "    \n",
    "    # List to store the first of month dates\n",
    "    first_of_month_dates = []\n",
    "\n",
    "    # Start from the first of the month of the start_date\n",
    "    current_date = datetime(start_date.year, start_date.month, 1)\n",
    "\n",
    "    while current_date <= end_date:\n",
    "        # Append the date in yyyy-mm-dd format\n",
    "        first_of_month_dates.append(current_date.strftime(\"%Y-%m-%d\"))\n",
    "        \n",
    "        # Move to the first of the next month\n",
    "        if current_date.month == 12:\n",
    "            current_date = datetime(current_date.year + 1, 1, 1)\n",
    "        else:\n",
    "            current_date = datetime(current_date.year, current_date.month + 1, 1)\n",
    "\n",
    "    return first_of_month_dates\n",
    "\n",
    "dates_str_lst = generate_first_of_month_dates(start_date_str, end_date_str)\n",
    "dates_str_lst"
   ]
  },
  {
   "cell_type": "code",
   "execution_count": 6,
   "id": "b9ae2835-783e-4db8-b6e3-a4ee2a95dda2",
   "metadata": {},
   "outputs": [],
   "source": [
    "# connect to source back end - IRL connect to back end source system\n",
    "csv_file_path = \"data/features_attributes.csv\"\n",
    "\n",
    "# load data - IRL ingest from back end source system\n",
    "df = spark.read.csv(csv_file_path, header=True, inferSchema=True)"
   ]
  },
  {
   "cell_type": "code",
   "execution_count": 7,
   "id": "9fc9ce12-83cc-414c-b5ff-3354ee33fe0b",
   "metadata": {},
   "outputs": [
    {
     "name": "stdout",
     "output_type": "stream",
     "text": [
      "+-----------+-----------------+---+-----------+-------------+-------------+\n",
      "|Customer_ID|             Name|Age|        SSN|   Occupation|snapshot_date|\n",
      "+-----------+-----------------+---+-----------+-------------+-------------+\n",
      "| CUS_0x1000|   Alistair Barrf| 18|913-74-1218|       Lawyer|   2023-05-01|\n",
      "| CUS_0x1009|           Arunah| 26|063-67-6938|     Mechanic|   2025-01-01|\n",
      "| CUS_0x100b|         Shirboni| 19|  #F%$D@*&8|Media_Manager|   2024-03-01|\n",
      "| CUS_0x1011|        Schneyerh| 44|793-05-8223|       Doctor|   2023-11-01|\n",
      "| CUS_0x1013|         Cameront| 44|930-49-9615|     Mechanic|   2023-12-01|\n",
      "| CUS_0x1015|          Holtono| 27|810-97-7024|   Journalist|   2023-08-01|\n",
      "| CUS_0x1018|      Felsenthalq| 15|731-19-8119|   Accountant|   2023-11-01|\n",
      "| CUS_0x1026|          Josephv| 52|500-62-9044|      Manager|   2023-10-01|\n",
      "| CUS_0x102d| Neil Chatterjeex| 31|692-71-7552| Entrepreneur|   2024-01-01|\n",
      "| CUS_0x102e|            Rhysn| 26|  #F%$D@*&8|    Scientist|   2024-04-01|\n",
      "| CUS_0x1032|           Wahbap|40_|620-58-8045|       Lawyer|   2023-08-01|\n",
      "| CUS_0x1037|         Matthewm| 45|230-22-9583|   Accountant|   2023-01-01|\n",
      "| CUS_0x1038|              B.h| 28|355-00-7832|    Architect|   2024-10-01|\n",
      "| CUS_0x103e|       Tim Kellyf| 40|155-72-8070|    Scientist|   2024-12-01|\n",
      "| CUS_0x1041|Jonathan Stempela| 15|675-80-2033|      Teacher|   2023-11-01|\n",
      "| CUS_0x1044|    Maki Shirakip| 44|  #F%$D@*&8|      _______|   2023-06-01|\n",
      "| CUS_0x1048|   Janet McGurtyg| 27|808-81-2470|   Accountant|   2024-02-01|\n",
      "| CUS_0x104a|            Leahk| 37|  #F%$D@*&8|     Mechanic|   2023-12-01|\n",
      "| CUS_0x104e|         Kentaros| 50|837-93-5062|      Teacher|   2023-06-01|\n",
      "| CUS_0x104f|            Markm| 20|264-84-8069|      _______|   2024-10-01|\n",
      "+-----------+-----------------+---+-----------+-------------+-------------+\n",
      "only showing top 20 rows\n",
      "\n"
     ]
    }
   ],
   "source": [
    "df.show()"
   ]
  },
  {
   "cell_type": "code",
   "execution_count": null,
   "id": "b567aec5-4588-476e-a725-6bf6fc8981ba",
   "metadata": {},
   "outputs": [],
   "source": []
  }
 ],
 "metadata": {
  "kernelspec": {
   "display_name": "Python 3 (ipykernel)",
   "language": "python",
   "name": "python3"
  },
  "language_info": {
   "codemirror_mode": {
    "name": "ipython",
    "version": 3
   },
   "file_extension": ".py",
   "mimetype": "text/x-python",
   "name": "python",
   "nbconvert_exporter": "python",
   "pygments_lexer": "ipython3",
   "version": "3.12.10"
  }
 },
 "nbformat": 4,
 "nbformat_minor": 5
}
