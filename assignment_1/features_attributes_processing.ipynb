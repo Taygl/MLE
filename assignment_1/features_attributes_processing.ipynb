{
 "cells": [
  {
   "cell_type": "code",
   "execution_count": 25,
   "id": "84cd841a-e8a8-4d8f-ae5c-83b9e5925096",
   "metadata": {},
   "outputs": [],
   "source": [
    "import os\n",
    "import glob\n",
    "import pandas as pd\n",
    "import matplotlib.pyplot as plt\n",
    "import seaborn as sns\n",
    "import numpy as np\n",
    "import random\n",
    "from datetime import datetime, timedelta\n",
    "from dateutil.relativedelta import relativedelta\n",
    "import pprint\n",
    "import pyspark\n",
    "import pyspark.sql.functions as F\n",
    "\n",
    "from pyspark.sql.functions import col, row_number, to_date, udf, count, when\n",
    "from pyspark.sql.types import StringType, IntegerType, FloatType, DateType\n",
    "from pyspark.sql.types import StructType, StructField, StringType, IntegerType, DateType, ArrayType, DoubleType\n",
    "from pyspark.sql.window import Window\n",
    "from pyspark.sql.functions import regexp_extract, regexp_replace, when, trim, initcap\n",
    "from pyspark.ml.feature import StringIndexer, OneHotEncoder\n",
    "from pyspark.ml import Pipeline\n",
    "\n",
    "from pyspark.ml.classification import LogisticRegression\n",
    "from pyspark.ml.feature import VectorAssembler\n",
    "from pyspark.ml.evaluation import BinaryClassificationEvaluator\n",
    "\n",
    "import utils.features_attributes_bronze_table\n",
    "import utils.features_attributes_silver_table\n",
    "import utils.features_attributes_gold_table"
   ]
  },
  {
   "cell_type": "code",
   "execution_count": 30,
   "id": "bcdf71ff-313d-46b0-ba75-aee205db7a38",
   "metadata": {},
   "outputs": [],
   "source": [
    "# Initialize SparkSession\n",
    "spark = pyspark.sql.SparkSession.builder \\\n",
    "    .appName(\"dev\") \\\n",
    "    .master(\"local[*]\") \\\n",
    "    .getOrCreate()\n",
    "\n",
    "# Set log level to ERROR to hide warnings\n",
    "spark.sparkContext.setLogLevel(\"ERROR\")"
   ]
  },
  {
   "cell_type": "code",
   "execution_count": 31,
   "id": "3199b6ec-23e1-4c40-afb9-70f265215eb7",
   "metadata": {},
   "outputs": [],
   "source": [
    "# set up config\n",
    "snapshot_date_str = \"2023-01-01\"\n",
    "\n",
    "start_date_str = \"2023-01-01\"\n",
    "end_date_str = \"2024-12-01\""
   ]
  },
  {
   "cell_type": "code",
   "execution_count": 32,
   "id": "f19384fa-a0a4-4f96-9c02-cf1a528432ed",
   "metadata": {},
   "outputs": [
    {
     "data": {
      "text/plain": [
       "['2023-01-01',\n",
       " '2023-02-01',\n",
       " '2023-03-01',\n",
       " '2023-04-01',\n",
       " '2023-05-01',\n",
       " '2023-06-01',\n",
       " '2023-07-01',\n",
       " '2023-08-01',\n",
       " '2023-09-01',\n",
       " '2023-10-01',\n",
       " '2023-11-01',\n",
       " '2023-12-01',\n",
       " '2024-01-01',\n",
       " '2024-02-01',\n",
       " '2024-03-01',\n",
       " '2024-04-01',\n",
       " '2024-05-01',\n",
       " '2024-06-01',\n",
       " '2024-07-01',\n",
       " '2024-08-01',\n",
       " '2024-09-01',\n",
       " '2024-10-01',\n",
       " '2024-11-01',\n",
       " '2024-12-01']"
      ]
     },
     "execution_count": 32,
     "metadata": {},
     "output_type": "execute_result"
    }
   ],
   "source": [
    "# generate list of dates to process\n",
    "def generate_first_of_month_dates(start_date_str, end_date_str):\n",
    "    # Convert the date strings to datetime objects\n",
    "    start_date = datetime.strptime(start_date_str, \"%Y-%m-%d\")\n",
    "    end_date = datetime.strptime(end_date_str, \"%Y-%m-%d\")\n",
    "    \n",
    "    # List to store the first of month dates\n",
    "    first_of_month_dates = []\n",
    "\n",
    "    # Start from the first of the month of the start_date\n",
    "    current_date = datetime(start_date.year, start_date.month, 1)\n",
    "\n",
    "    while current_date <= end_date:\n",
    "        # Append the date in yyyy-mm-dd format\n",
    "        first_of_month_dates.append(current_date.strftime(\"%Y-%m-%d\"))\n",
    "        \n",
    "        # Move to the first of the next month\n",
    "        if current_date.month == 12:\n",
    "            current_date = datetime(current_date.year + 1, 1, 1)\n",
    "        else:\n",
    "            current_date = datetime(current_date.year, current_date.month + 1, 1)\n",
    "\n",
    "    return first_of_month_dates\n",
    "\n",
    "dates_str_lst = generate_first_of_month_dates(start_date_str, end_date_str)\n",
    "dates_str_lst"
   ]
  },
  {
   "cell_type": "code",
   "execution_count": 33,
   "id": "b9ae2835-783e-4db8-b6e3-a4ee2a95dda2",
   "metadata": {},
   "outputs": [],
   "source": [
    "# connect to source back end - IRL connect to back end source system\n",
    "csv_file_path = \"data/features_attributes.csv\"\n",
    "\n",
    "# load data - IRL ingest from back end source system\n",
    "df = spark.read.csv(csv_file_path, header=True, inferSchema=True)"
   ]
  },
  {
   "cell_type": "code",
   "execution_count": 34,
   "id": "9fc9ce12-83cc-414c-b5ff-3354ee33fe0b",
   "metadata": {},
   "outputs": [
    {
     "name": "stdout",
     "output_type": "stream",
     "text": [
      "+-----------+-----------------+---+-----------+-------------+-------------+\n",
      "|Customer_ID|             Name|Age|        SSN|   Occupation|snapshot_date|\n",
      "+-----------+-----------------+---+-----------+-------------+-------------+\n",
      "| CUS_0x1000|   Alistair Barrf| 18|913-74-1218|       Lawyer|   2023-05-01|\n",
      "| CUS_0x1009|           Arunah| 26|063-67-6938|     Mechanic|   2025-01-01|\n",
      "| CUS_0x100b|         Shirboni| 19|  #F%$D@*&8|Media_Manager|   2024-03-01|\n",
      "| CUS_0x1011|        Schneyerh| 44|793-05-8223|       Doctor|   2023-11-01|\n",
      "| CUS_0x1013|         Cameront| 44|930-49-9615|     Mechanic|   2023-12-01|\n",
      "| CUS_0x1015|          Holtono| 27|810-97-7024|   Journalist|   2023-08-01|\n",
      "| CUS_0x1018|      Felsenthalq| 15|731-19-8119|   Accountant|   2023-11-01|\n",
      "| CUS_0x1026|          Josephv| 52|500-62-9044|      Manager|   2023-10-01|\n",
      "| CUS_0x102d| Neil Chatterjeex| 31|692-71-7552| Entrepreneur|   2024-01-01|\n",
      "| CUS_0x102e|            Rhysn| 26|  #F%$D@*&8|    Scientist|   2024-04-01|\n",
      "| CUS_0x1032|           Wahbap|40_|620-58-8045|       Lawyer|   2023-08-01|\n",
      "| CUS_0x1037|         Matthewm| 45|230-22-9583|   Accountant|   2023-01-01|\n",
      "| CUS_0x1038|              B.h| 28|355-00-7832|    Architect|   2024-10-01|\n",
      "| CUS_0x103e|       Tim Kellyf| 40|155-72-8070|    Scientist|   2024-12-01|\n",
      "| CUS_0x1041|Jonathan Stempela| 15|675-80-2033|      Teacher|   2023-11-01|\n",
      "| CUS_0x1044|    Maki Shirakip| 44|  #F%$D@*&8|      _______|   2023-06-01|\n",
      "| CUS_0x1048|   Janet McGurtyg| 27|808-81-2470|   Accountant|   2024-02-01|\n",
      "| CUS_0x104a|            Leahk| 37|  #F%$D@*&8|     Mechanic|   2023-12-01|\n",
      "| CUS_0x104e|         Kentaros| 50|837-93-5062|      Teacher|   2023-06-01|\n",
      "| CUS_0x104f|            Markm| 20|264-84-8069|      _______|   2024-10-01|\n",
      "+-----------+-----------------+---+-----------+-------------+-------------+\n",
      "only showing top 20 rows\n",
      "\n"
     ]
    }
   ],
   "source": [
    "df.show()"
   ]
  },
  {
   "cell_type": "markdown",
   "id": "718e2d31-157b-4696-999a-f5abc4c95708",
   "metadata": {},
   "source": [
    "### Clean up age, SSN, Occupation for silver table"
   ]
  },
  {
   "cell_type": "code",
   "execution_count": 19,
   "id": "b567aec5-4588-476e-a725-6bf6fc8981ba",
   "metadata": {},
   "outputs": [
    {
     "name": "stdout",
     "output_type": "stream",
     "text": [
      "+-----------+-----------------+---+-----------+-------------+-------------+\n",
      "|Customer_ID|Name             |Age|SSN        |Occupation   |snapshot_date|\n",
      "+-----------+-----------------+---+-----------+-------------+-------------+\n",
      "|CUS_0x1000 |Alistair Barrf   |18 |913-74-1218|Lawyer       |2023-05-01   |\n",
      "|CUS_0x1009 |Arunah           |26 |063-67-6938|Mechanic     |2025-01-01   |\n",
      "|CUS_0x100b |Shirboni         |19 |NULL       |Media Manager|2024-03-01   |\n",
      "|CUS_0x1011 |Schneyerh        |44 |793-05-8223|Doctor       |2023-11-01   |\n",
      "|CUS_0x1013 |Cameront         |44 |930-49-9615|Mechanic     |2023-12-01   |\n",
      "|CUS_0x1015 |Holtono          |27 |810-97-7024|Journalist   |2023-08-01   |\n",
      "|CUS_0x1018 |Felsenthalq      |15 |731-19-8119|Accountant   |2023-11-01   |\n",
      "|CUS_0x1026 |Josephv          |52 |500-62-9044|Manager      |2023-10-01   |\n",
      "|CUS_0x102d |Neil Chatterjeex |31 |692-71-7552|Entrepreneur |2024-01-01   |\n",
      "|CUS_0x102e |Rhysn            |26 |NULL       |Scientist    |2024-04-01   |\n",
      "|CUS_0x1032 |Wahbap           |40 |620-58-8045|Lawyer       |2023-08-01   |\n",
      "|CUS_0x1037 |Matthewm         |45 |230-22-9583|Accountant   |2023-01-01   |\n",
      "|CUS_0x1038 |B.h              |28 |355-00-7832|Architect    |2024-10-01   |\n",
      "|CUS_0x103e |Tim Kellyf       |40 |155-72-8070|Scientist    |2024-12-01   |\n",
      "|CUS_0x1041 |Jonathan Stempela|15 |675-80-2033|Teacher      |2023-11-01   |\n",
      "|CUS_0x1044 |Maki Shirakip    |44 |NULL       |NULL         |2023-06-01   |\n",
      "|CUS_0x1048 |Janet McGurtyg   |27 |808-81-2470|Accountant   |2024-02-01   |\n",
      "|CUS_0x104a |Leahk            |37 |NULL       |Mechanic     |2023-12-01   |\n",
      "|CUS_0x104e |Kentaros         |50 |837-93-5062|Teacher      |2023-06-01   |\n",
      "|CUS_0x104f |Markm            |20 |264-84-8069|NULL         |2024-10-01   |\n",
      "+-----------+-----------------+---+-----------+-------------+-------------+\n",
      "only showing top 20 rows\n",
      "\n"
     ]
    }
   ],
   "source": [
    "# 1. Clean Age: Extract digits and cast to Integer\n",
    "df_cleaned = df.withColumn(\n",
    "    \"Age\",\n",
    "    regexp_extract(col(\"Age\"), r\"(\\d+)\", 1).cast(IntegerType())\n",
    ")\n",
    "\n",
    "# 2. Clean SSN: Match valid SSNs, else null\n",
    "valid_ssn_pattern = r\"^\\d{3}-\\d{2}-\\d{4}$\"\n",
    "df_cleaned = df_cleaned.withColumn(\n",
    "    \"SSN\",\n",
    "    when(col(\"SSN\").rlike(valid_ssn_pattern), col(\"SSN\")).otherwise(None)\n",
    ")\n",
    "\n",
    "# 3. Clean Occupation: Remove placeholder, null if empty or invalid\n",
    "df_cleaned = df_cleaned.withColumn(\n",
    "    \"Occupation\",\n",
    "    when((trim(col(\"Occupation\")) == \"\") | (col(\"Occupation\") == \"_______\"), None)\n",
    "    .otherwise(initcap(regexp_replace(col(\"Occupation\"), \"_\", \" \")))  # Optional: beautify names\n",
    ")\n",
    "\n",
    "# Show result\n",
    "df_cleaned.show(truncate=False)"
   ]
  },
  {
   "cell_type": "code",
   "execution_count": 20,
   "id": "e1a8b89d-17dc-42ec-b48a-3ee29e00969b",
   "metadata": {},
   "outputs": [],
   "source": [
    "# clean data: enforce schema / data type\n",
    "# Dictionary specifying columns and their desired datatypes\n",
    "column_type_map = {\n",
    "    \"Customer_ID\": StringType(),\n",
    "    \"Name\": StringType(),\n",
    "    \"Age\": IntegerType(),\n",
    "    \"SSN\": StringType(),\n",
    "    \"Occupation\": StringType(),\n",
    "    \"snapshot_date\": DateType(),\n",
    "}\n",
    "\n",
    "#change to new dtype\n",
    "for column, new_type in column_type_map.items():\n",
    "    df_cleaned = df_cleaned.withColumn(column, col(column).cast(new_type))"
   ]
  },
  {
   "cell_type": "markdown",
   "id": "9808fb80-c97e-48bd-9748-87e9d5f977d1",
   "metadata": {},
   "source": [
    "### Gold"
   ]
  },
  {
   "cell_type": "markdown",
   "id": "4b5b0679-fc0b-4c0b-8e75-252e83ffb598",
   "metadata": {},
   "source": [
    "### One hot encode & keep only latest result for gold table"
   ]
  },
  {
   "cell_type": "code",
   "execution_count": 22,
   "id": "19b8db45-837b-4de4-b7b2-0dfc1c7334d9",
   "metadata": {},
   "outputs": [],
   "source": [
    "# Impute occupation with most freq value and age with median val\n",
    "\n",
    "# Occupation\n",
    "# Find the most frequent (mode) value\n",
    "mode_value = (\n",
    "    df_cleaned.filter(col(\"Occupation\").isNotNull())\n",
    "      .groupBy(\"Occupation\")\n",
    "      .count()\n",
    "      .orderBy(col(\"count\").desc())\n",
    "      .first()[0]\n",
    ")\n",
    "\n",
    "#  Fill nulls in the column with the mode value\n",
    "df_cleaned = df_cleaned.fillna({ \"Occupation\": mode_value })\n",
    "\n",
    "# Age\n",
    "# Filter out nulls and select the column as a list of values\n",
    "non_null_values = df_cleaned.select(\"Age\").where(col(\"Age\").isNotNull())\n",
    "\n",
    "# Compute the approximate median using approxQuantile\n",
    "# [0.5] is for the median (50th percentile), and 0.01 is the relative error\n",
    "median_value = non_null_values.approxQuantile(\"Age\", [0.5], 0.01)[0]\n",
    "\n",
    "# Fill nulls with the median\n",
    "df_cleaned = df_cleaned.fillna({ \"Age\": median_value })"
   ]
  },
  {
   "cell_type": "code",
   "execution_count": 23,
   "id": "1c3d9d17-517e-4bca-aa4d-85e6be639a66",
   "metadata": {},
   "outputs": [],
   "source": [
    "# Index and encode\n",
    "indexer = StringIndexer(inputCol=\"Occupation\", outputCol=\"Occupation_Indexed\", handleInvalid=\"keep\")\n",
    "encoder = OneHotEncoder(inputCol=\"Occupation_Indexed\", outputCol=\"Occupation_OHE\")  # dropLast=True by default\n",
    "\n",
    "pipeline = Pipeline(stages=[indexer, encoder])\n",
    "model = pipeline.fit(df_cleaned)\n",
    "df_encoded = model.transform(df_cleaned)\n",
    "\n",
    "# Get occupation labels\n",
    "occupation_labels = model.stages[0].labels  # StringIndexer labels\n",
    "\n",
    "#  Convert OHE vector to array\n",
    "def vector_to_array(v):\n",
    "    return v.toArray().tolist()\n",
    "\n",
    "vec_to_array_udf = udf(vector_to_array, ArrayType(DoubleType()))\n",
    "df_encoded = df_encoded.withColumn(\"Occupation_OHE_Array\", vec_to_array_udf(col(\"Occupation_OHE\")))\n",
    "\n",
    "# Create individual binary columns, but DROP the first category (index 0)\n",
    "for i, label in enumerate(occupation_labels[1:], start=1):  # Skip first label\n",
    "    col_name = f\"is_{label.replace(' ', '_')}\"\n",
    "    df_encoded = df_encoded.withColumn(col_name, col(\"Occupation_OHE_Array\")[i - 1])  # Index i-1 due to dropped one\n",
    "\n",
    "# Clean up intermediate columns\n",
    "df_encoded = df_encoded.drop(\"Occupation_Indexed\", \"Occupation_OHE\", \"Occupation_OHE_Array\", \"Occupation\")"
   ]
  },
  {
   "cell_type": "code",
   "execution_count": 24,
   "id": "e85852bc-1c3e-4bd9-8955-0d627cb19c6c",
   "metadata": {},
   "outputs": [
    {
     "name": "stdout",
     "output_type": "stream",
     "text": [
      "+-----------+-----------------+---+-----------+-------------+------------+-----------+-------------+------------+----------+------------+-----------+----------------+---------------+-------------+---------+-----------+----------+---------+\n",
      "|Customer_ID|             Name|Age|        SSN|snapshot_date|is_Architect|is_Engineer|is_Accountant|is_Scientist|is_Teacher|is_Developer|is_Mechanic|is_Media_Manager|is_Entrepreneur|is_Journalist|is_Doctor|is_Musician|is_Manager|is_Writer|\n",
      "+-----------+-----------------+---+-----------+-------------+------------+-----------+-------------+------------+----------+------------+-----------+----------------+---------------+-------------+---------+-----------+----------+---------+\n",
      "| CUS_0x1000|   Alistair Barrf| 18|913-74-1218|   2023-05-01|         1.0|        0.0|          0.0|         0.0|       0.0|         0.0|        0.0|             0.0|            0.0|          0.0|      0.0|        0.0|       0.0|      0.0|\n",
      "| CUS_0x1009|           Arunah| 26|063-67-6938|   2025-01-01|         0.0|        0.0|          0.0|         0.0|       0.0|         0.0|        0.0|             1.0|            0.0|          0.0|      0.0|        0.0|       0.0|      0.0|\n",
      "| CUS_0x100b|         Shirboni| 19|       NULL|   2024-03-01|         0.0|        0.0|          0.0|         0.0|       0.0|         0.0|        0.0|             0.0|            1.0|          0.0|      0.0|        0.0|       0.0|      0.0|\n",
      "| CUS_0x1011|        Schneyerh| 44|793-05-8223|   2023-11-01|         0.0|        0.0|          0.0|         0.0|       0.0|         0.0|        0.0|             0.0|            0.0|          0.0|      0.0|        1.0|       0.0|      0.0|\n",
      "| CUS_0x1013|         Cameront| 44|930-49-9615|   2023-12-01|         0.0|        0.0|          0.0|         0.0|       0.0|         0.0|        0.0|             1.0|            0.0|          0.0|      0.0|        0.0|       0.0|      0.0|\n",
      "| CUS_0x1015|          Holtono| 27|810-97-7024|   2023-08-01|         0.0|        0.0|          0.0|         0.0|       0.0|         0.0|        0.0|             0.0|            0.0|          0.0|      1.0|        0.0|       0.0|      0.0|\n",
      "| CUS_0x1018|      Felsenthalq| 15|731-19-8119|   2023-11-01|         0.0|        0.0|          0.0|         1.0|       0.0|         0.0|        0.0|             0.0|            0.0|          0.0|      0.0|        0.0|       0.0|      0.0|\n",
      "| CUS_0x1026|          Josephv| 52|500-62-9044|   2023-10-01|         0.0|        0.0|          0.0|         0.0|       0.0|         0.0|        0.0|             0.0|            0.0|          0.0|      0.0|        0.0|       0.0|      1.0|\n",
      "| CUS_0x102d| Neil Chatterjeex| 31|692-71-7552|   2024-01-01|         0.0|        0.0|          0.0|         0.0|       0.0|         0.0|        0.0|             0.0|            0.0|          1.0|      0.0|        0.0|       0.0|      0.0|\n",
      "| CUS_0x102e|            Rhysn| 26|       NULL|   2024-04-01|         0.0|        0.0|          0.0|         0.0|       1.0|         0.0|        0.0|             0.0|            0.0|          0.0|      0.0|        0.0|       0.0|      0.0|\n",
      "| CUS_0x1032|           Wahbap| 40|620-58-8045|   2023-08-01|         1.0|        0.0|          0.0|         0.0|       0.0|         0.0|        0.0|             0.0|            0.0|          0.0|      0.0|        0.0|       0.0|      0.0|\n",
      "| CUS_0x1037|         Matthewm| 45|230-22-9583|   2023-01-01|         0.0|        0.0|          0.0|         1.0|       0.0|         0.0|        0.0|             0.0|            0.0|          0.0|      0.0|        0.0|       0.0|      0.0|\n",
      "| CUS_0x1038|              B.h| 28|355-00-7832|   2024-10-01|         0.0|        1.0|          0.0|         0.0|       0.0|         0.0|        0.0|             0.0|            0.0|          0.0|      0.0|        0.0|       0.0|      0.0|\n",
      "| CUS_0x103e|       Tim Kellyf| 40|155-72-8070|   2024-12-01|         0.0|        0.0|          0.0|         0.0|       1.0|         0.0|        0.0|             0.0|            0.0|          0.0|      0.0|        0.0|       0.0|      0.0|\n",
      "| CUS_0x1041|Jonathan Stempela| 15|675-80-2033|   2023-11-01|         0.0|        0.0|          0.0|         0.0|       0.0|         1.0|        0.0|             0.0|            0.0|          0.0|      0.0|        0.0|       0.0|      0.0|\n",
      "| CUS_0x1044|    Maki Shirakip| 44|       NULL|   2023-06-01|         1.0|        0.0|          0.0|         0.0|       0.0|         0.0|        0.0|             0.0|            0.0|          0.0|      0.0|        0.0|       0.0|      0.0|\n",
      "| CUS_0x1048|   Janet McGurtyg| 27|808-81-2470|   2024-02-01|         0.0|        0.0|          0.0|         1.0|       0.0|         0.0|        0.0|             0.0|            0.0|          0.0|      0.0|        0.0|       0.0|      0.0|\n",
      "| CUS_0x104a|            Leahk| 37|       NULL|   2023-12-01|         0.0|        0.0|          0.0|         0.0|       0.0|         0.0|        0.0|             1.0|            0.0|          0.0|      0.0|        0.0|       0.0|      0.0|\n",
      "| CUS_0x104e|         Kentaros| 50|837-93-5062|   2023-06-01|         0.0|        0.0|          0.0|         0.0|       0.0|         1.0|        0.0|             0.0|            0.0|          0.0|      0.0|        0.0|       0.0|      0.0|\n",
      "| CUS_0x104f|            Markm| 20|264-84-8069|   2024-10-01|         1.0|        0.0|          0.0|         0.0|       0.0|         0.0|        0.0|             0.0|            0.0|          0.0|      0.0|        0.0|       0.0|      0.0|\n",
      "+-----------+-----------------+---+-----------+-------------+------------+-----------+-------------+------------+----------+------------+-----------+----------------+---------------+-------------+---------+-----------+----------+---------+\n",
      "only showing top 20 rows\n",
      "\n"
     ]
    },
    {
     "name": "stderr",
     "output_type": "stream",
     "text": [
      "                                                                                "
     ]
    }
   ],
   "source": [
    "df_encoded.show()"
   ]
  },
  {
   "cell_type": "code",
   "execution_count": 55,
   "id": "5bbce65b-b329-4826-8bd9-02cb27878811",
   "metadata": {},
   "outputs": [
    {
     "name": "stderr",
     "output_type": "stream",
     "text": [
      "[Stage 492:>                                                        (0 + 1) / 1]"
     ]
    },
    {
     "name": "stdout",
     "output_type": "stream",
     "text": [
      "+-----------+-----------------+---+-----------+-------------+-------------+------------+-----------+-------------+------------+----------+------------+-----------+----------------+---------------+-------------+---------+-----------+----------+---------+\n",
      "|Customer_ID|Name             |Age|SSN        |Occupation   |snapshot_date|is_Architect|is_Engineer|is_Accountant|is_Scientist|is_Teacher|is_Developer|is_Mechanic|is_Media_Manager|is_Entrepreneur|is_Journalist|is_Doctor|is_Musician|is_Manager|is_Writer|\n",
      "+-----------+-----------------+---+-----------+-------------+-------------+------------+-----------+-------------+------------+----------+------------+-----------+----------------+---------------+-------------+---------+-----------+----------+---------+\n",
      "|CUS_0x1000 |Alistair Barrf   |18 |913-74-1218|Lawyer       |2023-05-01   |1.0         |0.0        |0.0          |0.0         |0.0       |0.0         |0.0        |0.0             |0.0            |0.0          |0.0      |0.0        |0.0       |0.0      |\n",
      "|CUS_0x1009 |Arunah           |26 |063-67-6938|Mechanic     |2025-01-01   |0.0         |0.0        |0.0          |0.0         |0.0       |0.0         |0.0        |1.0             |0.0            |0.0          |0.0      |0.0        |0.0       |0.0      |\n",
      "|CUS_0x100b |Shirboni         |19 |NULL       |Media Manager|2024-03-01   |0.0         |0.0        |0.0          |0.0         |0.0       |0.0         |0.0        |0.0             |1.0            |0.0          |0.0      |0.0        |0.0       |0.0      |\n",
      "|CUS_0x1011 |Schneyerh        |44 |793-05-8223|Doctor       |2023-11-01   |0.0         |0.0        |0.0          |0.0         |0.0       |0.0         |0.0        |0.0             |0.0            |0.0          |0.0      |1.0        |0.0       |0.0      |\n",
      "|CUS_0x1013 |Cameront         |44 |930-49-9615|Mechanic     |2023-12-01   |0.0         |0.0        |0.0          |0.0         |0.0       |0.0         |0.0        |1.0             |0.0            |0.0          |0.0      |0.0        |0.0       |0.0      |\n",
      "|CUS_0x1015 |Holtono          |27 |810-97-7024|Journalist   |2023-08-01   |0.0         |0.0        |0.0          |0.0         |0.0       |0.0         |0.0        |0.0             |0.0            |0.0          |1.0      |0.0        |0.0       |0.0      |\n",
      "|CUS_0x1018 |Felsenthalq      |15 |731-19-8119|Accountant   |2023-11-01   |0.0         |0.0        |0.0          |1.0         |0.0       |0.0         |0.0        |0.0             |0.0            |0.0          |0.0      |0.0        |0.0       |0.0      |\n",
      "|CUS_0x1026 |Josephv          |52 |500-62-9044|Manager      |2023-10-01   |0.0         |0.0        |0.0          |0.0         |0.0       |0.0         |0.0        |0.0             |0.0            |0.0          |0.0      |0.0        |0.0       |1.0      |\n",
      "|CUS_0x102d |Neil Chatterjeex |31 |692-71-7552|Entrepreneur |2024-01-01   |0.0         |0.0        |0.0          |0.0         |0.0       |0.0         |0.0        |0.0             |0.0            |1.0          |0.0      |0.0        |0.0       |0.0      |\n",
      "|CUS_0x102e |Rhysn            |26 |NULL       |Scientist    |2024-04-01   |0.0         |0.0        |0.0          |0.0         |1.0       |0.0         |0.0        |0.0             |0.0            |0.0          |0.0      |0.0        |0.0       |0.0      |\n",
      "|CUS_0x1032 |Wahbap           |40 |620-58-8045|Lawyer       |2023-08-01   |1.0         |0.0        |0.0          |0.0         |0.0       |0.0         |0.0        |0.0             |0.0            |0.0          |0.0      |0.0        |0.0       |0.0      |\n",
      "|CUS_0x1037 |Matthewm         |45 |230-22-9583|Accountant   |2023-01-01   |0.0         |0.0        |0.0          |1.0         |0.0       |0.0         |0.0        |0.0             |0.0            |0.0          |0.0      |0.0        |0.0       |0.0      |\n",
      "|CUS_0x1038 |B.h              |28 |355-00-7832|Architect    |2024-10-01   |0.0         |1.0        |0.0          |0.0         |0.0       |0.0         |0.0        |0.0             |0.0            |0.0          |0.0      |0.0        |0.0       |0.0      |\n",
      "|CUS_0x103e |Tim Kellyf       |40 |155-72-8070|Scientist    |2024-12-01   |0.0         |0.0        |0.0          |0.0         |1.0       |0.0         |0.0        |0.0             |0.0            |0.0          |0.0      |0.0        |0.0       |0.0      |\n",
      "|CUS_0x1041 |Jonathan Stempela|15 |675-80-2033|Teacher      |2023-11-01   |0.0         |0.0        |0.0          |0.0         |0.0       |1.0         |0.0        |0.0             |0.0            |0.0          |0.0      |0.0        |0.0       |0.0      |\n",
      "|CUS_0x1044 |Maki Shirakip    |44 |NULL       |NULL         |2023-06-01   |0.0         |0.0        |0.0          |0.0         |0.0       |0.0         |0.0        |0.0             |0.0            |0.0          |0.0      |0.0        |0.0       |0.0      |\n",
      "|CUS_0x1048 |Janet McGurtyg   |27 |808-81-2470|Accountant   |2024-02-01   |0.0         |0.0        |0.0          |1.0         |0.0       |0.0         |0.0        |0.0             |0.0            |0.0          |0.0      |0.0        |0.0       |0.0      |\n",
      "|CUS_0x104a |Leahk            |37 |NULL       |Mechanic     |2023-12-01   |0.0         |0.0        |0.0          |0.0         |0.0       |0.0         |0.0        |1.0             |0.0            |0.0          |0.0      |0.0        |0.0       |0.0      |\n",
      "|CUS_0x104e |Kentaros         |50 |837-93-5062|Teacher      |2023-06-01   |0.0         |0.0        |0.0          |0.0         |0.0       |1.0         |0.0        |0.0             |0.0            |0.0          |0.0      |0.0        |0.0       |0.0      |\n",
      "|CUS_0x104f |Markm            |20 |264-84-8069|NULL         |2024-10-01   |0.0         |0.0        |0.0          |0.0         |0.0       |0.0         |0.0        |0.0             |0.0            |0.0          |0.0      |0.0        |0.0       |0.0      |\n",
      "+-----------+-----------------+---+-----------+-------------+-------------+------------+-----------+-------------+------------+----------+------------+-----------+----------------+---------------+-------------+---------+-----------+----------+---------+\n",
      "only showing top 20 rows\n",
      "\n"
     ]
    },
    {
     "name": "stderr",
     "output_type": "stream",
     "text": [
      "                                                                                "
     ]
    }
   ],
   "source": [
    "df_cleaned = df_encoded\n",
    "\n",
    "# Ensure snapshot_date is in date format\n",
    "df_cleaned = df_cleaned.withColumn(\"snapshot_date\", to_date(\"snapshot_date\", \"yyyy-MM-dd\"))\n",
    "\n",
    "# Define a window partitioned by Customer_ID, ordered by snapshot_date descending\n",
    "window_spec = Window.partitionBy(\"Customer_ID\").orderBy(col(\"snapshot_date\").desc())\n",
    "\n",
    "# Add row_number to rank records\n",
    "ranked_df = df_cleaned.withColumn(\"rn\", row_number().over(window_spec))\n",
    "\n",
    "# Filter only latest records (row_number == 1)\n",
    "latest_df = ranked_df.filter(col(\"rn\") == 1).drop(\"rn\")\n",
    "\n",
    "# Show final result\n",
    "latest_df.show(truncate=False)"
   ]
  },
  {
   "cell_type": "markdown",
   "id": "7ec371cd-ca9e-486d-a34e-2c66fac82b11",
   "metadata": {},
   "source": [
    "### Construct pipeline to build bronze, silver and gold tables"
   ]
  },
  {
   "cell_type": "markdown",
   "id": "20039f49-be4e-499c-9779-4d8a050505ef",
   "metadata": {},
   "source": [
    "### Bronze"
   ]
  },
  {
   "cell_type": "code",
   "execution_count": 26,
   "id": "5aaed2c6-31b9-4234-a07e-40c75af17602",
   "metadata": {},
   "outputs": [],
   "source": [
    "# create bronze datalake\n",
    "bronze_features_attributes_directory = \"datamart/bronze/features_attributes/\"\n",
    "\n",
    "if not os.path.exists(bronze_features_attributes_directory):\n",
    "    os.makedirs(bronze_features_attributes_directory)"
   ]
  },
  {
   "cell_type": "code",
   "execution_count": 24,
   "id": "aa46e9dd-83e2-4d4c-860b-fafb252d0372",
   "metadata": {},
   "outputs": [
    {
     "name": "stdout",
     "output_type": "stream",
     "text": [
      "2023-01-01row count: 530\n",
      "saved to: datamart/bronze/features_attributes/bronze_features_attributes_daily_2023_01_01.csv\n",
      "2023-02-01row count: 501\n",
      "saved to: datamart/bronze/features_attributes/bronze_features_attributes_daily_2023_02_01.csv\n",
      "2023-03-01row count: 506\n",
      "saved to: datamart/bronze/features_attributes/bronze_features_attributes_daily_2023_03_01.csv\n",
      "2023-04-01row count: 510\n",
      "saved to: datamart/bronze/features_attributes/bronze_features_attributes_daily_2023_04_01.csv\n",
      "2023-05-01row count: 521\n",
      "saved to: datamart/bronze/features_attributes/bronze_features_attributes_daily_2023_05_01.csv\n",
      "2023-06-01row count: 517\n",
      "saved to: datamart/bronze/features_attributes/bronze_features_attributes_daily_2023_06_01.csv\n",
      "2023-07-01row count: 471\n",
      "saved to: datamart/bronze/features_attributes/bronze_features_attributes_daily_2023_07_01.csv\n",
      "2023-08-01row count: 481\n",
      "saved to: datamart/bronze/features_attributes/bronze_features_attributes_daily_2023_08_01.csv\n",
      "2023-09-01row count: 454\n",
      "saved to: datamart/bronze/features_attributes/bronze_features_attributes_daily_2023_09_01.csv\n",
      "2023-10-01row count: 487\n",
      "saved to: datamart/bronze/features_attributes/bronze_features_attributes_daily_2023_10_01.csv\n",
      "2023-11-01row count: 491\n",
      "saved to: datamart/bronze/features_attributes/bronze_features_attributes_daily_2023_11_01.csv\n",
      "2023-12-01row count: 489\n",
      "saved to: datamart/bronze/features_attributes/bronze_features_attributes_daily_2023_12_01.csv\n",
      "2024-01-01row count: 485\n",
      "saved to: datamart/bronze/features_attributes/bronze_features_attributes_daily_2024_01_01.csv\n",
      "2024-02-01row count: 518\n",
      "saved to: datamart/bronze/features_attributes/bronze_features_attributes_daily_2024_02_01.csv\n",
      "2024-03-01row count: 511\n",
      "saved to: datamart/bronze/features_attributes/bronze_features_attributes_daily_2024_03_01.csv\n",
      "2024-04-01row count: 513\n",
      "saved to: datamart/bronze/features_attributes/bronze_features_attributes_daily_2024_04_01.csv\n",
      "2024-05-01row count: 491\n",
      "saved to: datamart/bronze/features_attributes/bronze_features_attributes_daily_2024_05_01.csv\n",
      "2024-06-01row count: 498\n",
      "saved to: datamart/bronze/features_attributes/bronze_features_attributes_daily_2024_06_01.csv\n",
      "2024-07-01row count: 505\n",
      "saved to: datamart/bronze/features_attributes/bronze_features_attributes_daily_2024_07_01.csv\n",
      "2024-08-01row count: 543\n",
      "saved to: datamart/bronze/features_attributes/bronze_features_attributes_daily_2024_08_01.csv\n",
      "2024-09-01row count: 493\n",
      "saved to: datamart/bronze/features_attributes/bronze_features_attributes_daily_2024_09_01.csv\n",
      "2024-10-01row count: 456\n",
      "saved to: datamart/bronze/features_attributes/bronze_features_attributes_daily_2024_10_01.csv\n",
      "2024-11-01row count: 488\n",
      "saved to: datamart/bronze/features_attributes/bronze_features_attributes_daily_2024_11_01.csv\n",
      "2024-12-01row count: 515\n",
      "saved to: datamart/bronze/features_attributes/bronze_features_attributes_daily_2024_12_01.csv\n"
     ]
    }
   ],
   "source": [
    "# run bronze backfill\n",
    "for date_str in dates_str_lst:\n",
    "    utils.features_attributes_bronze_table.features_attributes_bronze_table(date_str, bronze_features_attributes_directory, spark)"
   ]
  },
  {
   "cell_type": "markdown",
   "id": "1f9cacc9-e418-494f-9ce6-c2b652c33c6d",
   "metadata": {},
   "source": [
    "### Silver"
   ]
  },
  {
   "cell_type": "code",
   "execution_count": 27,
   "id": "e0d0c553-a677-4512-bd15-5a7b66101abb",
   "metadata": {},
   "outputs": [],
   "source": [
    "# create silver datalake\n",
    "silver_features_attributes_directory = \"datamart/silver/features_attributes/\"\n",
    "\n",
    "if not os.path.exists(silver_features_attributes_directory):\n",
    "    os.makedirs(silver_features_attributes_directory)"
   ]
  },
  {
   "cell_type": "code",
   "execution_count": 27,
   "id": "65de64a5-e331-425b-bdb8-0ef02e5860bd",
   "metadata": {},
   "outputs": [
    {
     "name": "stdout",
     "output_type": "stream",
     "text": [
      "loaded from: datamart/bronze/features_attributes/bronze_features_attributes_daily_2023_01_01.csv row count: 530\n"
     ]
    },
    {
     "name": "stderr",
     "output_type": "stream",
     "text": [
      "                                                                                "
     ]
    },
    {
     "name": "stdout",
     "output_type": "stream",
     "text": [
      "saved to: datamart/silver/features_attributes/silver_features_attributes_daily_2023_01_01.parquet\n",
      "loaded from: datamart/bronze/features_attributes/bronze_features_attributes_daily_2023_02_01.csv row count: 501\n",
      "saved to: datamart/silver/features_attributes/silver_features_attributes_daily_2023_02_01.parquet\n",
      "loaded from: datamart/bronze/features_attributes/bronze_features_attributes_daily_2023_03_01.csv row count: 506\n",
      "saved to: datamart/silver/features_attributes/silver_features_attributes_daily_2023_03_01.parquet\n",
      "loaded from: datamart/bronze/features_attributes/bronze_features_attributes_daily_2023_04_01.csv row count: 510\n",
      "saved to: datamart/silver/features_attributes/silver_features_attributes_daily_2023_04_01.parquet\n",
      "loaded from: datamart/bronze/features_attributes/bronze_features_attributes_daily_2023_05_01.csv row count: 521\n",
      "saved to: datamart/silver/features_attributes/silver_features_attributes_daily_2023_05_01.parquet\n",
      "loaded from: datamart/bronze/features_attributes/bronze_features_attributes_daily_2023_06_01.csv row count: 517\n",
      "saved to: datamart/silver/features_attributes/silver_features_attributes_daily_2023_06_01.parquet\n",
      "loaded from: datamart/bronze/features_attributes/bronze_features_attributes_daily_2023_07_01.csv row count: 471\n"
     ]
    },
    {
     "name": "stderr",
     "output_type": "stream",
     "text": [
      "                                                                                "
     ]
    },
    {
     "name": "stdout",
     "output_type": "stream",
     "text": [
      "saved to: datamart/silver/features_attributes/silver_features_attributes_daily_2023_07_01.parquet\n",
      "loaded from: datamart/bronze/features_attributes/bronze_features_attributes_daily_2023_08_01.csv row count: 481\n",
      "saved to: datamart/silver/features_attributes/silver_features_attributes_daily_2023_08_01.parquet\n",
      "loaded from: datamart/bronze/features_attributes/bronze_features_attributes_daily_2023_09_01.csv row count: 454\n",
      "saved to: datamart/silver/features_attributes/silver_features_attributes_daily_2023_09_01.parquet\n",
      "loaded from: datamart/bronze/features_attributes/bronze_features_attributes_daily_2023_10_01.csv row count: 487\n",
      "saved to: datamart/silver/features_attributes/silver_features_attributes_daily_2023_10_01.parquet\n",
      "loaded from: datamart/bronze/features_attributes/bronze_features_attributes_daily_2023_11_01.csv row count: 491\n",
      "saved to: datamart/silver/features_attributes/silver_features_attributes_daily_2023_11_01.parquet\n",
      "loaded from: datamart/bronze/features_attributes/bronze_features_attributes_daily_2023_12_01.csv row count: 489\n",
      "saved to: datamart/silver/features_attributes/silver_features_attributes_daily_2023_12_01.parquet\n",
      "loaded from: datamart/bronze/features_attributes/bronze_features_attributes_daily_2024_01_01.csv row count: 485\n",
      "saved to: datamart/silver/features_attributes/silver_features_attributes_daily_2024_01_01.parquet\n",
      "loaded from: datamart/bronze/features_attributes/bronze_features_attributes_daily_2024_02_01.csv row count: 518\n"
     ]
    },
    {
     "name": "stderr",
     "output_type": "stream",
     "text": [
      "                                                                                "
     ]
    },
    {
     "name": "stdout",
     "output_type": "stream",
     "text": [
      "saved to: datamart/silver/features_attributes/silver_features_attributes_daily_2024_02_01.parquet\n",
      "loaded from: datamart/bronze/features_attributes/bronze_features_attributes_daily_2024_03_01.csv row count: 511\n",
      "saved to: datamart/silver/features_attributes/silver_features_attributes_daily_2024_03_01.parquet\n",
      "loaded from: datamart/bronze/features_attributes/bronze_features_attributes_daily_2024_04_01.csv row count: 513\n",
      "saved to: datamart/silver/features_attributes/silver_features_attributes_daily_2024_04_01.parquet\n",
      "loaded from: datamart/bronze/features_attributes/bronze_features_attributes_daily_2024_05_01.csv row count: 491\n",
      "saved to: datamart/silver/features_attributes/silver_features_attributes_daily_2024_05_01.parquet\n",
      "loaded from: datamart/bronze/features_attributes/bronze_features_attributes_daily_2024_06_01.csv row count: 498\n",
      "saved to: datamart/silver/features_attributes/silver_features_attributes_daily_2024_06_01.parquet\n",
      "loaded from: datamart/bronze/features_attributes/bronze_features_attributes_daily_2024_07_01.csv row count: 505\n",
      "saved to: datamart/silver/features_attributes/silver_features_attributes_daily_2024_07_01.parquet\n",
      "loaded from: datamart/bronze/features_attributes/bronze_features_attributes_daily_2024_08_01.csv row count: 543\n",
      "saved to: datamart/silver/features_attributes/silver_features_attributes_daily_2024_08_01.parquet\n",
      "loaded from: datamart/bronze/features_attributes/bronze_features_attributes_daily_2024_09_01.csv row count: 493\n",
      "saved to: datamart/silver/features_attributes/silver_features_attributes_daily_2024_09_01.parquet\n",
      "loaded from: datamart/bronze/features_attributes/bronze_features_attributes_daily_2024_10_01.csv row count: 456\n",
      "saved to: datamart/silver/features_attributes/silver_features_attributes_daily_2024_10_01.parquet\n",
      "loaded from: datamart/bronze/features_attributes/bronze_features_attributes_daily_2024_11_01.csv row count: 488\n"
     ]
    },
    {
     "name": "stderr",
     "output_type": "stream",
     "text": [
      "                                                                                "
     ]
    },
    {
     "name": "stdout",
     "output_type": "stream",
     "text": [
      "saved to: datamart/silver/features_attributes/silver_features_attributes_daily_2024_11_01.parquet\n",
      "loaded from: datamart/bronze/features_attributes/bronze_features_attributes_daily_2024_12_01.csv row count: 515\n",
      "saved to: datamart/silver/features_attributes/silver_features_attributes_daily_2024_12_01.parquet\n"
     ]
    }
   ],
   "source": [
    "# run silver backfill\n",
    "for date_str in dates_str_lst:\n",
    "    utils.features_attributes_silver_table.features_attributes_silver_table(date_str, bronze_features_attributes_directory, silver_features_attributes_directory, spark)"
   ]
  },
  {
   "cell_type": "code",
   "execution_count": 31,
   "id": "5e64052b-930f-48d9-ba9f-0d5ca862d210",
   "metadata": {},
   "outputs": [
    {
     "name": "stdout",
     "output_type": "stream",
     "text": [
      "loaded from: datamart/bronze/features_attributes/bronze_features_attributes_daily_2024_12_01.csv row count: 515\n",
      "saved to: datamart/silver/features_attributes/silver_features_attributes_daily_2024_12_01.parquet\n"
     ]
    },
    {
     "data": {
      "text/html": [
       "<div>\n",
       "<style scoped>\n",
       "    .dataframe tbody tr th:only-of-type {\n",
       "        vertical-align: middle;\n",
       "    }\n",
       "\n",
       "    .dataframe tbody tr th {\n",
       "        vertical-align: top;\n",
       "    }\n",
       "\n",
       "    .dataframe thead th {\n",
       "        text-align: right;\n",
       "    }\n",
       "</style>\n",
       "<table border=\"1\" class=\"dataframe\">\n",
       "  <thead>\n",
       "    <tr style=\"text-align: right;\">\n",
       "      <th></th>\n",
       "      <th>Customer_ID</th>\n",
       "      <th>Name</th>\n",
       "      <th>Age</th>\n",
       "      <th>SSN</th>\n",
       "      <th>Occupation</th>\n",
       "      <th>snapshot_date</th>\n",
       "    </tr>\n",
       "  </thead>\n",
       "  <tbody>\n",
       "    <tr>\n",
       "      <th>0</th>\n",
       "      <td>CUS_0x103e</td>\n",
       "      <td>Tim Kellyf</td>\n",
       "      <td>40</td>\n",
       "      <td>155-72-8070</td>\n",
       "      <td>Scientist</td>\n",
       "      <td>2024-12-01</td>\n",
       "    </tr>\n",
       "    <tr>\n",
       "      <th>1</th>\n",
       "      <td>CUS_0x1195</td>\n",
       "      <td>Alexk</td>\n",
       "      <td>31</td>\n",
       "      <td>822-48-3629</td>\n",
       "      <td>Manager</td>\n",
       "      <td>2024-12-01</td>\n",
       "    </tr>\n",
       "    <tr>\n",
       "      <th>2</th>\n",
       "      <td>CUS_0x1197</td>\n",
       "      <td>Nayako</td>\n",
       "      <td>28</td>\n",
       "      <td>799-23-8283</td>\n",
       "      <td>None</td>\n",
       "      <td>2024-12-01</td>\n",
       "    </tr>\n",
       "    <tr>\n",
       "      <th>3</th>\n",
       "      <td>CUS_0x11e2</td>\n",
       "      <td>Valetkevitchr</td>\n",
       "      <td>34</td>\n",
       "      <td>809-04-1419</td>\n",
       "      <td>Musician</td>\n",
       "      <td>2024-12-01</td>\n",
       "    </tr>\n",
       "    <tr>\n",
       "      <th>4</th>\n",
       "      <td>CUS_0x11ec</td>\n",
       "      <td>William Schombergh</td>\n",
       "      <td>34</td>\n",
       "      <td>417-74-2163</td>\n",
       "      <td>Journalist</td>\n",
       "      <td>2024-12-01</td>\n",
       "    </tr>\n",
       "    <tr>\n",
       "      <th>...</th>\n",
       "      <td>...</td>\n",
       "      <td>...</td>\n",
       "      <td>...</td>\n",
       "      <td>...</td>\n",
       "      <td>...</td>\n",
       "      <td>...</td>\n",
       "    </tr>\n",
       "    <tr>\n",
       "      <th>510</th>\n",
       "      <td>CUS_0xe6c</td>\n",
       "      <td>Doris Frankelh</td>\n",
       "      <td>26</td>\n",
       "      <td>172-24-1577</td>\n",
       "      <td>Entrepreneur</td>\n",
       "      <td>2024-12-01</td>\n",
       "    </tr>\n",
       "    <tr>\n",
       "      <th>511</th>\n",
       "      <td>CUS_0xe99</td>\n",
       "      <td>Moone</td>\n",
       "      <td>48</td>\n",
       "      <td>164-90-3178</td>\n",
       "      <td>Mechanic</td>\n",
       "      <td>2024-12-01</td>\n",
       "    </tr>\n",
       "    <tr>\n",
       "      <th>512</th>\n",
       "      <td>CUS_0xf55</td>\n",
       "      <td>Tarmo Virkip</td>\n",
       "      <td>39</td>\n",
       "      <td>025-54-8593</td>\n",
       "      <td>Entrepreneur</td>\n",
       "      <td>2024-12-01</td>\n",
       "    </tr>\n",
       "    <tr>\n",
       "      <th>513</th>\n",
       "      <td>CUS_0xfd1</td>\n",
       "      <td>Frewy</td>\n",
       "      <td>32</td>\n",
       "      <td>389-55-6408</td>\n",
       "      <td>Architect</td>\n",
       "      <td>2024-12-01</td>\n",
       "    </tr>\n",
       "    <tr>\n",
       "      <th>514</th>\n",
       "      <td>CUS_0xff4</td>\n",
       "      <td>Poornimaf</td>\n",
       "      <td>37</td>\n",
       "      <td>655-05-7666</td>\n",
       "      <td>Entrepreneur</td>\n",
       "      <td>2024-12-01</td>\n",
       "    </tr>\n",
       "  </tbody>\n",
       "</table>\n",
       "<p>515 rows × 6 columns</p>\n",
       "</div>"
      ],
      "text/plain": [
       "    Customer_ID                Name  Age          SSN    Occupation  \\\n",
       "0    CUS_0x103e          Tim Kellyf   40  155-72-8070     Scientist   \n",
       "1    CUS_0x1195               Alexk   31  822-48-3629       Manager   \n",
       "2    CUS_0x1197              Nayako   28  799-23-8283          None   \n",
       "3    CUS_0x11e2       Valetkevitchr   34  809-04-1419      Musician   \n",
       "4    CUS_0x11ec  William Schombergh   34  417-74-2163    Journalist   \n",
       "..          ...                 ...  ...          ...           ...   \n",
       "510   CUS_0xe6c      Doris Frankelh   26  172-24-1577  Entrepreneur   \n",
       "511   CUS_0xe99               Moone   48  164-90-3178      Mechanic   \n",
       "512   CUS_0xf55        Tarmo Virkip   39  025-54-8593  Entrepreneur   \n",
       "513   CUS_0xfd1               Frewy   32  389-55-6408     Architect   \n",
       "514   CUS_0xff4           Poornimaf   37  655-05-7666  Entrepreneur   \n",
       "\n",
       "    snapshot_date  \n",
       "0      2024-12-01  \n",
       "1      2024-12-01  \n",
       "2      2024-12-01  \n",
       "3      2024-12-01  \n",
       "4      2024-12-01  \n",
       "..            ...  \n",
       "510    2024-12-01  \n",
       "511    2024-12-01  \n",
       "512    2024-12-01  \n",
       "513    2024-12-01  \n",
       "514    2024-12-01  \n",
       "\n",
       "[515 rows x 6 columns]"
      ]
     },
     "execution_count": 31,
     "metadata": {},
     "output_type": "execute_result"
    }
   ],
   "source": [
    "utils.features_attributes_silver_table.features_attributes_silver_table(date_str, bronze_features_attributes_directory, silver_features_attributes_directory, spark).toPandas()"
   ]
  },
  {
   "cell_type": "markdown",
   "id": "10854dbf-0815-4521-8d05-33232805ecee",
   "metadata": {},
   "source": [
    "### Gold"
   ]
  },
  {
   "cell_type": "code",
   "execution_count": 35,
   "id": "7b5cd2e9-c8fc-4814-a0df-59593b222cc0",
   "metadata": {},
   "outputs": [],
   "source": [
    "# create gold datalake\n",
    "gold_features_attributes_directory = \"datamart/gold/features_attributes/\"\n",
    "\n",
    "if not os.path.exists(gold_features_attributes_directory):\n",
    "    os.makedirs(gold_features_attributes_directory)"
   ]
  },
  {
   "cell_type": "code",
   "execution_count": 37,
   "id": "d0d0cc18-3831-4e6b-bd4b-6381104f21d0",
   "metadata": {},
   "outputs": [
    {
     "name": "stdout",
     "output_type": "stream",
     "text": [
      "loaded from: datamart/silver/features_attributes/silver_features_attributes_daily_2023_01_01.parquet row count: 530\n",
      "saved to: datamart/gold/features_attributes/gold_features_attributes_daily_2023_01_01.parquet\n",
      "loaded from: datamart/silver/features_attributes/silver_features_attributes_daily_2023_02_01.parquet row count: 501\n",
      "saved to: datamart/gold/features_attributes/gold_features_attributes_daily_2023_02_01.parquet\n",
      "loaded from: datamart/silver/features_attributes/silver_features_attributes_daily_2023_03_01.parquet row count: 506\n",
      "saved to: datamart/gold/features_attributes/gold_features_attributes_daily_2023_03_01.parquet\n",
      "loaded from: datamart/silver/features_attributes/silver_features_attributes_daily_2023_04_01.parquet row count: 510\n",
      "saved to: datamart/gold/features_attributes/gold_features_attributes_daily_2023_04_01.parquet\n",
      "loaded from: datamart/silver/features_attributes/silver_features_attributes_daily_2023_05_01.parquet row count: 521\n",
      "saved to: datamart/gold/features_attributes/gold_features_attributes_daily_2023_05_01.parquet\n",
      "loaded from: datamart/silver/features_attributes/silver_features_attributes_daily_2023_06_01.parquet row count: 517\n",
      "saved to: datamart/gold/features_attributes/gold_features_attributes_daily_2023_06_01.parquet\n",
      "loaded from: datamart/silver/features_attributes/silver_features_attributes_daily_2023_07_01.parquet row count: 471\n",
      "saved to: datamart/gold/features_attributes/gold_features_attributes_daily_2023_07_01.parquet\n",
      "loaded from: datamart/silver/features_attributes/silver_features_attributes_daily_2023_08_01.parquet row count: 481\n",
      "saved to: datamart/gold/features_attributes/gold_features_attributes_daily_2023_08_01.parquet\n",
      "loaded from: datamart/silver/features_attributes/silver_features_attributes_daily_2023_09_01.parquet row count: 454\n",
      "saved to: datamart/gold/features_attributes/gold_features_attributes_daily_2023_09_01.parquet\n",
      "loaded from: datamart/silver/features_attributes/silver_features_attributes_daily_2023_10_01.parquet row count: 487\n",
      "saved to: datamart/gold/features_attributes/gold_features_attributes_daily_2023_10_01.parquet\n",
      "loaded from: datamart/silver/features_attributes/silver_features_attributes_daily_2023_11_01.parquet row count: 491\n",
      "saved to: datamart/gold/features_attributes/gold_features_attributes_daily_2023_11_01.parquet\n",
      "loaded from: datamart/silver/features_attributes/silver_features_attributes_daily_2023_12_01.parquet row count: 489\n",
      "saved to: datamart/gold/features_attributes/gold_features_attributes_daily_2023_12_01.parquet\n",
      "loaded from: datamart/silver/features_attributes/silver_features_attributes_daily_2024_01_01.parquet row count: 485\n",
      "saved to: datamart/gold/features_attributes/gold_features_attributes_daily_2024_01_01.parquet\n",
      "loaded from: datamart/silver/features_attributes/silver_features_attributes_daily_2024_02_01.parquet row count: 518\n",
      "saved to: datamart/gold/features_attributes/gold_features_attributes_daily_2024_02_01.parquet\n",
      "loaded from: datamart/silver/features_attributes/silver_features_attributes_daily_2024_03_01.parquet row count: 511\n",
      "saved to: datamart/gold/features_attributes/gold_features_attributes_daily_2024_03_01.parquet\n",
      "loaded from: datamart/silver/features_attributes/silver_features_attributes_daily_2024_04_01.parquet row count: 513\n",
      "saved to: datamart/gold/features_attributes/gold_features_attributes_daily_2024_04_01.parquet\n",
      "loaded from: datamart/silver/features_attributes/silver_features_attributes_daily_2024_05_01.parquet row count: 491\n",
      "saved to: datamart/gold/features_attributes/gold_features_attributes_daily_2024_05_01.parquet\n",
      "loaded from: datamart/silver/features_attributes/silver_features_attributes_daily_2024_06_01.parquet row count: 498\n",
      "saved to: datamart/gold/features_attributes/gold_features_attributes_daily_2024_06_01.parquet\n",
      "loaded from: datamart/silver/features_attributes/silver_features_attributes_daily_2024_07_01.parquet row count: 505\n",
      "saved to: datamart/gold/features_attributes/gold_features_attributes_daily_2024_07_01.parquet\n",
      "loaded from: datamart/silver/features_attributes/silver_features_attributes_daily_2024_08_01.parquet row count: 543\n",
      "saved to: datamart/gold/features_attributes/gold_features_attributes_daily_2024_08_01.parquet\n",
      "loaded from: datamart/silver/features_attributes/silver_features_attributes_daily_2024_09_01.parquet row count: 493\n",
      "saved to: datamart/gold/features_attributes/gold_features_attributes_daily_2024_09_01.parquet\n",
      "loaded from: datamart/silver/features_attributes/silver_features_attributes_daily_2024_10_01.parquet row count: 456\n",
      "saved to: datamart/gold/features_attributes/gold_features_attributes_daily_2024_10_01.parquet\n",
      "loaded from: datamart/silver/features_attributes/silver_features_attributes_daily_2024_11_01.parquet row count: 488\n",
      "saved to: datamart/gold/features_attributes/gold_features_attributes_daily_2024_11_01.parquet\n",
      "loaded from: datamart/silver/features_attributes/silver_features_attributes_daily_2024_12_01.parquet row count: 515\n",
      "saved to: datamart/gold/features_attributes/gold_features_attributes_daily_2024_12_01.parquet\n"
     ]
    }
   ],
   "source": [
    "# run gold backfill\n",
    "for date_str in dates_str_lst:\n",
    "    utils.features_attributes_gold_table.features_attributes_gold_table(date_str, silver_features_attributes_directory, gold_features_attributes_directory, spark)"
   ]
  },
  {
   "cell_type": "code",
   "execution_count": null,
   "id": "64676fb3-81e5-4d88-b121-25da8fb7e0ad",
   "metadata": {},
   "outputs": [],
   "source": []
  }
 ],
 "metadata": {
  "kernelspec": {
   "display_name": "Python 3 (ipykernel)",
   "language": "python",
   "name": "python3"
  },
  "language_info": {
   "codemirror_mode": {
    "name": "ipython",
    "version": 3
   },
   "file_extension": ".py",
   "mimetype": "text/x-python",
   "name": "python",
   "nbconvert_exporter": "python",
   "pygments_lexer": "ipython3",
   "version": "3.12.10"
  }
 },
 "nbformat": 4,
 "nbformat_minor": 5
}
