{
 "cells": [
  {
   "cell_type": "code",
   "execution_count": 217,
   "id": "6b366efc-f6d2-4aa1-95f3-68f1eca59dd4",
   "metadata": {},
   "outputs": [],
   "source": [
    "import os\n",
    "import glob\n",
    "import pandas as pd\n",
    "import matplotlib.pyplot as plt\n",
    "import seaborn as sns\n",
    "import numpy as np\n",
    "import random\n",
    "from datetime import datetime, timedelta\n",
    "from dateutil.relativedelta import relativedelta\n",
    "import pprint\n",
    "import pyspark\n",
    "import pyspark.sql.functions as F\n",
    "\n",
    "from pyspark.ml import Pipeline\n",
    "from pyspark.ml.feature import StringIndexer, OneHotEncoder\n",
    "\n",
    "from pyspark.sql.functions import col, row_number, to_date, count, percentile_approx, desc, udf\n",
    "from pyspark.sql.types import StringType, IntegerType, FloatType, DateType, DoubleType, ArrayType\n",
    "from pyspark.sql.types import StructType, StructField, StringType, IntegerType, DateType\n",
    "from pyspark.sql.window import Window\n",
    "from pyspark.sql.functions import regexp_extract, regexp_replace, when, trim, initcap, round, lower, split, explode, array_distinct, array_sort, concat_ws, expr\n",
    "\n",
    "import utils.features_financials_bronze_table\n",
    "import utils.features_financials_silver_table\n",
    "import utils.features_financials_gold_table"
   ]
  },
  {
   "cell_type": "code",
   "execution_count": 178,
   "id": "b9741d21-6d6f-4cd5-88e7-53d06a0b9fe3",
   "metadata": {},
   "outputs": [],
   "source": [
    "# Initialize SparkSession\n",
    "spark = pyspark.sql.SparkSession.builder \\\n",
    "    .appName(\"dev\") \\\n",
    "    .master(\"local[*]\") \\\n",
    "    .getOrCreate()\n",
    "\n",
    "# Set log level to ERROR to hide warnings\n",
    "spark.sparkContext.setLogLevel(\"ERROR\")"
   ]
  },
  {
   "cell_type": "code",
   "execution_count": 179,
   "id": "32e08b48-353f-44b2-9b0e-6f321d4f4b15",
   "metadata": {},
   "outputs": [],
   "source": [
    "# set up config\n",
    "snapshot_date_str = \"2023-01-01\"\n",
    "\n",
    "start_date_str = \"2023-01-01\"\n",
    "end_date_str = \"2024-12-01\""
   ]
  },
  {
   "cell_type": "code",
   "execution_count": 180,
   "id": "649e7b49-c817-46bc-b79d-e7548458184b",
   "metadata": {},
   "outputs": [
    {
     "data": {
      "text/plain": [
       "['2023-01-01',\n",
       " '2023-02-01',\n",
       " '2023-03-01',\n",
       " '2023-04-01',\n",
       " '2023-05-01',\n",
       " '2023-06-01',\n",
       " '2023-07-01',\n",
       " '2023-08-01',\n",
       " '2023-09-01',\n",
       " '2023-10-01',\n",
       " '2023-11-01',\n",
       " '2023-12-01',\n",
       " '2024-01-01',\n",
       " '2024-02-01',\n",
       " '2024-03-01',\n",
       " '2024-04-01',\n",
       " '2024-05-01',\n",
       " '2024-06-01',\n",
       " '2024-07-01',\n",
       " '2024-08-01',\n",
       " '2024-09-01',\n",
       " '2024-10-01',\n",
       " '2024-11-01',\n",
       " '2024-12-01']"
      ]
     },
     "execution_count": 180,
     "metadata": {},
     "output_type": "execute_result"
    }
   ],
   "source": [
    "# generate list of dates to process\n",
    "def generate_first_of_month_dates(start_date_str, end_date_str):\n",
    "    # Convert the date strings to datetime objects\n",
    "    start_date = datetime.strptime(start_date_str, \"%Y-%m-%d\")\n",
    "    end_date = datetime.strptime(end_date_str, \"%Y-%m-%d\")\n",
    "    \n",
    "    # List to store the first of month dates\n",
    "    first_of_month_dates = []\n",
    "\n",
    "    # Start from the first of the month of the start_date\n",
    "    current_date = datetime(start_date.year, start_date.month, 1)\n",
    "\n",
    "    while current_date <= end_date:\n",
    "        # Append the date in yyyy-mm-dd format\n",
    "        first_of_month_dates.append(current_date.strftime(\"%Y-%m-%d\"))\n",
    "        \n",
    "        # Move to the first of the next month\n",
    "        if current_date.month == 12:\n",
    "            current_date = datetime(current_date.year + 1, 1, 1)\n",
    "        else:\n",
    "            current_date = datetime(current_date.year, current_date.month + 1, 1)\n",
    "\n",
    "    return first_of_month_dates\n",
    "\n",
    "dates_str_lst = generate_first_of_month_dates(start_date_str, end_date_str)\n",
    "dates_str_lst"
   ]
  },
  {
   "cell_type": "code",
   "execution_count": 181,
   "id": "f43dbdc3-ea47-47ef-b731-85e8008aab17",
   "metadata": {},
   "outputs": [],
   "source": [
    "# connect to source back end - IRL connect to back end source system\n",
    "csv_file_path = \"data/features_financials.csv\"\n",
    "\n",
    "# load data - IRL ingest from back end source system\n",
    "df = spark.read.csv(csv_file_path, header=True, inferSchema=True)"
   ]
  },
  {
   "cell_type": "code",
   "execution_count": 182,
   "id": "ad93d6eb-c3a0-4334-af49-d8ea03b42328",
   "metadata": {},
   "outputs": [
    {
     "name": "stdout",
     "output_type": "stream",
     "text": [
      "+-----------+------------------+---------------------+-----------------+---------------+-------------+-----------+--------------------+-------------------+----------------------+--------------------+--------------------+----------+----------------+------------------------+--------------------+---------------------+-------------------+-----------------------+--------------------+------------------+-------------+\n",
      "|Customer_ID|     Annual_Income|Monthly_Inhand_Salary|Num_Bank_Accounts|Num_Credit_Card|Interest_Rate|Num_of_Loan|        Type_of_Loan|Delay_from_due_date|Num_of_Delayed_Payment|Changed_Credit_Limit|Num_Credit_Inquiries|Credit_Mix|Outstanding_Debt|Credit_Utilization_Ratio|  Credit_History_Age|Payment_of_Min_Amount|Total_EMI_per_month|Amount_invested_monthly|   Payment_Behaviour|   Monthly_Balance|snapshot_date|\n",
      "+-----------+------------------+---------------------+-----------------+---------------+-------------+-----------+--------------------+-------------------+----------------------+--------------------+--------------------+----------+----------------+------------------------+--------------------+---------------------+-------------------+-----------------------+--------------------+------------------+-------------+\n",
      "| CUS_0x1000|          30625.94|   2706.1616666666664|                6|              5|           27|          2|Credit-Builder Lo...|                 57|                    26|                1.63|                11.0|       Bad|         1562.91|       30.07719135017377|10 Years and 9 Mo...|                  Yes| 42.941090422469365|      77.31427572208112|High_spent_Medium...|400.36080052211616|   2023-05-01|\n",
      "| CUS_0x1009|         52312.68_|              4250.39|                6|              5|           17|          4|Not Specified, Ho...|                  5|                    18|                9.73|                 4.0|         _|          202.68|         40.286996673783|31 Years and 0 Mo...|                  Yes| 108.36646712525564|      58.66019164829086|High_spent_Medium...|508.01234122645366|   2025-01-01|\n",
      "| CUS_0x100b|113781.38999999998|            9549.7825|                1|              4|            1|          0|                NULL|                 14|                     8|                8.34|                 4.0|      Good|          1030.2|       28.59294254083936|15 Years and 10 M...|                   No|                0.0|      617.0792665202719|High_spent_Small_...| 597.8989834797281|   2024-03-01|\n",
      "| CUS_0x1011|          58918.47|            5208.8725|                3|              3|           17|          3|Student Loan, Cre...|                 27|                    13|               14.42|                 7.0|  Standard|          473.14|       27.82995907548726|15 Years and 10 M...|                  Yes| 123.43493879634316|     383.35084463651407|Low_spent_Medium_...| 294.1014665671429|   2023-11-01|\n",
      "| CUS_0x1013|          98620.98|    7962.415000000001|                3|              3|            6|          3|Student Loan, Deb...|                 12|                     9|                1.33|                 3.0|      Good|         1233.51|       26.52486357896023|17 Years and 10 M...|                   No|   228.018083652734|      332.3337079767732|High_spent_Medium...| 485.8897083704929|   2023-12-01|\n",
      "| CUS_0x1015|          46951.02|             3725.585|                7|              4|           16|          0|                NULL|                  8|                     9|               15.83|                 9.0|  Standard|          340.22|       38.68223175011704|21 Years and 5 Mo...|                   NM|                0.0|      437.4339945818671|Low_spent_Small_v...|225.12450541813288|   2023-08-01|\n",
      "| CUS_0x1018|          61194.81|            5014.5675|                7|              7|           23|          8|Credit-Builder Lo...|                 19|                    22|               28.63|                 8.0|       Bad|         2773.09|      27.268457710529688|14 Years and 3 Mo...|                  Yes|  225.3686913764476|     166.53062988488216|High_spent_Medium...|359.55742873867035|   2023-11-01|\n",
      "| CUS_0x1026|         170614.28|   14463.856666666668|                2|              6|            9|          2|Payday Loan, and ...|                  0|                     5|                0.73|                 3.0|      Good|          849.69|       31.75752065713533|20 Years and 8 Mo...|                   No| 208.90747938201577|     184.27787149576235|High_spent_Medium...|1303.2003157888887|   2023-10-01|\n",
      "| CUS_0x102d|          89064.52|    7256.043333333334|                5|              3|            1|          1|       Mortgage Loan|                  6|                     5|                6.37|                 3.0|         _|          648.36|       30.57429935886147|30 Years and 3 Mo...|                   No|  37.57275058079424|     296.09411909412466|High_spent_Medium...| 641.9374636584146|   2024-01-01|\n",
      "| CUS_0x102e|          50807.44|    4197.953333333334|                8|              4|           11|          4|Mortgage Loan, No...|                 12|                     9|                 2.6|                 4.0|         _|          869.59|      30.311454014148158|22 Years and 10 M...|                   NM|  88.75991924748364|      65.27556452739218|High_spent_Medium...| 515.7598495584575|   2024-04-01|\n",
      "+-----------+------------------+---------------------+-----------------+---------------+-------------+-----------+--------------------+-------------------+----------------------+--------------------+--------------------+----------+----------------+------------------------+--------------------+---------------------+-------------------+-----------------------+--------------------+------------------+-------------+\n",
      "only showing top 10 rows\n",
      "\n"
     ]
    }
   ],
   "source": [
    "df.show(10)"
   ]
  },
  {
   "cell_type": "code",
   "execution_count": 183,
   "id": "dbbee0ed-553b-4ea5-bbbc-1c58f0d9c1e7",
   "metadata": {},
   "outputs": [
    {
     "data": {
      "text/plain": [
       "['Customer_ID',\n",
       " 'Annual_Income',\n",
       " 'Monthly_Inhand_Salary',\n",
       " 'Num_Bank_Accounts',\n",
       " 'Num_Credit_Card',\n",
       " 'Interest_Rate',\n",
       " 'Num_of_Loan',\n",
       " 'Type_of_Loan',\n",
       " 'Delay_from_due_date',\n",
       " 'Num_of_Delayed_Payment',\n",
       " 'Changed_Credit_Limit',\n",
       " 'Num_Credit_Inquiries',\n",
       " 'Credit_Mix',\n",
       " 'Outstanding_Debt',\n",
       " 'Credit_Utilization_Ratio',\n",
       " 'Credit_History_Age',\n",
       " 'Payment_of_Min_Amount',\n",
       " 'Total_EMI_per_month',\n",
       " 'Amount_invested_monthly',\n",
       " 'Payment_Behaviour',\n",
       " 'Monthly_Balance',\n",
       " 'snapshot_date']"
      ]
     },
     "execution_count": 183,
     "metadata": {},
     "output_type": "execute_result"
    }
   ],
   "source": [
    "df.columns"
   ]
  },
  {
   "cell_type": "markdown",
   "id": "43328a33-ad10-4203-8472-381086722328",
   "metadata": {},
   "source": [
    "### Clean data for silver table"
   ]
  },
  {
   "cell_type": "code",
   "execution_count": 184,
   "id": "e323bf3b-5448-4611-a148-0f9daeaaaa13",
   "metadata": {},
   "outputs": [],
   "source": [
    "# Clean annual income\n",
    "# Remove non-numeric characters\n",
    "df_cleaned = df.withColumn(\n",
    "    \"Annual_Income\",\n",
    "    regexp_replace(col(\"Annual_Income\"), r\"[^\\d.]\", \"\")\n",
    "    .cast(\"double\")  # or \"decimal(10,2)\" for stricter typing\n",
    ")\n",
    "\n",
    "# Round to 2 decimal places\n",
    "df_cleaned = df_cleaned.withColumn(\"Annual_Income\", round(col(\"Annual_Income\"), 2))"
   ]
  },
  {
   "cell_type": "code",
   "execution_count": 185,
   "id": "040bfff8-601e-4cce-9de5-29636a0aeccc",
   "metadata": {},
   "outputs": [],
   "source": [
    "# Monthly_Inhand_Salary\n",
    "# Clean non-numeric characters (keep digits and dot)\n",
    "df_cleaned = df_cleaned.withColumn(\n",
    "    \"Monthly_Inhand_Salary\",\n",
    "    regexp_replace(col(\"Monthly_Inhand_Salary\"), r\"[^\\d.]\", \"\").cast(\"double\")\n",
    ")\n",
    "\n",
    "# Round to 2 decimal places\n",
    "df_cleaned = df_cleaned.withColumn(\n",
    "    \"Monthly_Inhand_Salary\",\n",
    "    round(col(\"Monthly_Inhand_Salary\"), 2)\n",
    ")"
   ]
  },
  {
   "cell_type": "code",
   "execution_count": 186,
   "id": "5112fa68-e6ab-48ed-8b63-6f1b915115e4",
   "metadata": {},
   "outputs": [],
   "source": [
    "# Clean Num_Bank_Accounts\n",
    "# Convert to integer and handle invalid values\n",
    "df_cleaned = df_cleaned.withColumn(\n",
    "    \"Num_Bank_Accounts\",\n",
    "    when(col(\"Num_Bank_Accounts\").cast(\"int\") < 0, None)  # Set negative values to null\n",
    "    .otherwise(col(\"Num_Bank_Accounts\").cast(\"int\"))\n",
    ")"
   ]
  },
  {
   "cell_type": "code",
   "execution_count": 187,
   "id": "116d7370-bfca-47fa-a7a8-9bc4807736bc",
   "metadata": {},
   "outputs": [],
   "source": [
    "# Clean Num_of_Loan\n",
    "# Remove non-digit characters and cast to integer\n",
    "df_cleaned = df_cleaned.withColumn(\n",
    "    \"Num_of_Loan\",\n",
    "    regexp_replace(col(\"Num_of_Loan\"), r\"[^\\d\\-]\", \"\").cast(\"int\")\n",
    ")\n",
    "\n",
    "# Replace invalid values (e.g. negative loans) with null\n",
    "df_cleaned = df_cleaned.withColumn(\n",
    "    \"Num_of_Loan\",\n",
    "    when(col(\"Num_of_Loan\") < 0, None).otherwise(col(\"Num_of_Loan\"))\n",
    ")"
   ]
  },
  {
   "cell_type": "code",
   "execution_count": 188,
   "id": "7766529e-17e1-47fe-9b72-ad11ebc9a0f9",
   "metadata": {},
   "outputs": [],
   "source": [
    "# Type_of_Loan\n",
    "# Split on ',' and 'and', normalize separators\n",
    "df_cleaned = df_cleaned.withColumn(\n",
    "    \"Type_of_Loan_Array\",\n",
    "    split(\n",
    "        regexp_replace(col(\"Type_of_Loan\"), r\"\\s*and\\s*|\\s*,\\s*\", \",\"), \n",
    "        \",\"\n",
    "    )\n",
    ")\n",
    "\n",
    "# Trim entries, remove \"Not Specified\", deduplicate, sort\n",
    "df_cleaned = df_cleaned.withColumn(\n",
    "    \"Type_of_Loan\",\n",
    "    concat_ws(\n",
    "        \", \",\n",
    "        array_sort(  # sort for consistency\n",
    "            array_distinct(  # Remove duplicates\n",
    "                expr(\"filter(transform(Type_of_Loan_Array, x -> trim(x)), x -> x != 'Not Specified')\")  # Remove 'Not Specified'\n",
    "            )\n",
    "        )\n",
    "    )\n",
    ")\n",
    "\n",
    "# Drop the intermediate Type_of_Loan_Array column\n",
    "df_cleaned = df_cleaned.drop(\"Type_of_Loan_Array\")"
   ]
  },
  {
   "cell_type": "code",
   "execution_count": 189,
   "id": "430193da-c597-4160-a982-7c824ae4dd12",
   "metadata": {},
   "outputs": [],
   "source": [
    "# Delay_from_due_date\n",
    "# Cast to integer and replace negative delays with null\n",
    "df_cleaned = df_cleaned.withColumn(\n",
    "    \"Delay_from_due_date\",\n",
    "    when(col(\"Delay_from_due_date\").cast(\"int\") < 0, None)\n",
    "    .otherwise(col(\"Delay_from_due_date\").cast(\"int\"))\n",
    ")"
   ]
  },
  {
   "cell_type": "code",
   "execution_count": 190,
   "id": "1e899aae-9f05-470e-a6b4-6174130fc34a",
   "metadata": {},
   "outputs": [],
   "source": [
    "# Clean Num_of_Delayed_Payment\n",
    "# Remove non-digit characters and cast to integer\n",
    "df_cleaned = df_cleaned.withColumn(\n",
    "    \"Num_of_Delayed_Payment\",\n",
    "    regexp_replace(col(\"Num_of_Delayed_Payment\"), r\"[^\\d\\-]\", \"\").cast(\"int\")\n",
    ")\n",
    "\n",
    "# Replace invalid values (e.g. negative loans) with null\n",
    "df_cleaned = df_cleaned.withColumn(\n",
    "    \"Num_of_Delayed_Payment\",\n",
    "    when(col(\"Num_of_Delayed_Payment\") < 0, None).otherwise(col(\"Num_of_Delayed_Payment\"))\n",
    ")"
   ]
  },
  {
   "cell_type": "code",
   "execution_count": 191,
   "id": "a39c112d-c70c-4e2d-ba34-c4994099c6ed",
   "metadata": {},
   "outputs": [],
   "source": [
    "# Changed_Credit_Limit\n",
    "df_cleaned = df_cleaned.withColumn(\n",
    "    \"Changed_Credit_Limit\",\n",
    "    regexp_replace(col(\"Changed_Credit_Limit\"), r\"[^\\d\\.-]\", \"\").cast(\"double\")\n",
    ")\n",
    "\n",
    "df_cleaned = df_cleaned.withColumn(\n",
    "    \"Changed_Credit_Limit\",\n",
    "    round(col(\"Changed_Credit_Limit\"), 2)\n",
    ")"
   ]
  },
  {
   "cell_type": "code",
   "execution_count": 192,
   "id": "d15f1c60-9b32-4803-a11c-6fe11c092a4a",
   "metadata": {},
   "outputs": [],
   "source": [
    "# Num_Credit_Inquiries\n",
    "# Cast to integer and replace negative delays with null\n",
    "df_cleaned = df_cleaned.withColumn(\n",
    "    \"Num_Credit_Inquiries\",\n",
    "    when(col(\"Num_Credit_Inquiries\").cast(\"int\") < 0, None)\n",
    "    .otherwise(col(\"Num_Credit_Inquiries\").cast(\"int\"))\n",
    ")"
   ]
  },
  {
   "cell_type": "code",
   "execution_count": 193,
   "id": "9342c5e0-ec67-44a1-ad29-a01332154340",
   "metadata": {},
   "outputs": [],
   "source": [
    "# Credit_Mix\n",
    "df_cleaned = df_cleaned.withColumn(\n",
    "    \"Credit_Mix\",\n",
    "    when(trim(col(\"Credit_Mix\")) == \"_\", None)  # Replace \"_\" with null\n",
    "    .otherwise(initcap(trim(col(\"Credit_Mix\"))))  # Standardize casing\n",
    ")"
   ]
  },
  {
   "cell_type": "code",
   "execution_count": 194,
   "id": "163cd198-b752-47e1-a519-556e941e3311",
   "metadata": {},
   "outputs": [],
   "source": [
    "# Outstanding_Debt\n",
    "# Clean non-numeric characters (keep digits and dot)\n",
    "df_cleaned = df_cleaned.withColumn(\n",
    "    \"Outstanding_Debt\",\n",
    "    regexp_replace(col(\"Outstanding_Debt\"), r\"[^\\d.]\", \"\").cast(\"double\")\n",
    ")\n",
    "\n",
    "# Round to 2 decimal places\n",
    "df_cleaned = df_cleaned.withColumn(\n",
    "    \"Outstanding_Debt\",\n",
    "    round(col(\"Outstanding_Debt\"), 2)\n",
    ")"
   ]
  },
  {
   "cell_type": "code",
   "execution_count": 195,
   "id": "0395a17e-0d4b-4d6e-a4b4-23e44c27128f",
   "metadata": {},
   "outputs": [],
   "source": [
    "# Credit_Utilization_Ratio\n",
    "# Clean non-numeric characters (keep digits and dot)\n",
    "df_cleaned = df_cleaned.withColumn(\n",
    "    \"Credit_Utilization_Ratio\",\n",
    "    regexp_replace(col(\"Credit_Utilization_Ratio\"), r\"[^\\d.]\", \"\").cast(\"double\")\n",
    ")\n",
    "\n",
    "# Round to 2 decimal places\n",
    "df_cleaned = df_cleaned.withColumn(\n",
    "    \"Credit_Utilization_Ratio\",\n",
    "    round(col(\"Credit_Utilization_Ratio\"), 2)\n",
    ")"
   ]
  },
  {
   "cell_type": "code",
   "execution_count": 196,
   "id": "cb3f2d7d-babb-4711-a644-da9d36287b8d",
   "metadata": {},
   "outputs": [],
   "source": [
    "# Credit_History_Age\n",
    "# Extract years and months using regex\n",
    "df_cleaned = df_cleaned.withColumn(\"Years\", regexp_extract(col(\"Credit_History_Age\"), r\"(\\d+)\\s+Years\", 1).cast(\"int\")) \\\n",
    "               .withColumn(\"Months\", regexp_extract(col(\"Credit_History_Age\"), r\"(\\d+)\\s+Months\", 1).cast(\"int\"))\n",
    "\n",
    "# Convert to float years: years + (months / 12), rounded to 2 decimals\n",
    "df_cleaned = df_cleaned.withColumn(\n",
    "    \"Credit_History_Age\",\n",
    "    round(col(\"Years\") + (col(\"Months\") / 12), 2)\n",
    ")\n",
    "\n",
    "# Drop intermediate columns if desired\n",
    "df_cleaned = df_cleaned.drop(\"Years\", \"Months\")"
   ]
  },
  {
   "cell_type": "code",
   "execution_count": 197,
   "id": "162e0744-00a3-465b-a2c5-dbac089d14c4",
   "metadata": {},
   "outputs": [],
   "source": [
    "# Payment_of_Min_Amount\n",
    "# Clean and standardize\n",
    "df_cleaned = df_cleaned.withColumn(\n",
    "    \"Payment_of_Min_Amount\",\n",
    "    when(trim(lower(col(\"Payment_of_Min_Amount\"))) == \"yes\", \"Yes\")\n",
    "    .when(trim(lower(col(\"Payment_of_Min_Amount\"))) == \"no\", \"No\")\n",
    "    .otherwise(None)  # Replace NM or any unexpected values with null\n",
    ")\n"
   ]
  },
  {
   "cell_type": "code",
   "execution_count": 198,
   "id": "0fb08c40-8a82-4254-b7a9-417b9a88f25b",
   "metadata": {},
   "outputs": [],
   "source": [
    "# Total_EMI_per_month\n",
    "# Clean non-numeric characters (keep digits and dot)\n",
    "df_cleaned = df_cleaned.withColumn(\n",
    "    \"Total_EMI_per_month\",\n",
    "    regexp_replace(col(\"Total_EMI_per_month\"), r\"[^\\d.]\", \"\").cast(\"double\")\n",
    ")\n",
    "\n",
    "# Round to 2 decimal places\n",
    "df_cleaned = df_cleaned.withColumn(\n",
    "    \"Total_EMI_per_month\",\n",
    "    round(col(\"Total_EMI_per_month\"), 2)\n",
    ")"
   ]
  },
  {
   "cell_type": "code",
   "execution_count": 199,
   "id": "d0a2b736-79ca-4e05-8036-11eaa42f2434",
   "metadata": {},
   "outputs": [],
   "source": [
    "# Amount_invested_monthly\n",
    "# Clean non-numeric characters (keep digits and dot)\n",
    "df_cleaned = df_cleaned.withColumn(\n",
    "    \"Amount_invested_monthly\",\n",
    "    regexp_replace(col(\"Amount_invested_monthly\"), r\"[^\\d.]\", \"\").cast(\"double\")\n",
    ")\n",
    "\n",
    "# Round to 2 decimal places\n",
    "df_cleaned = df_cleaned.withColumn(\n",
    "    \"Amount_invested_monthly\",\n",
    "    round(col(\"Amount_invested_monthly\"), 2)\n",
    ")"
   ]
  },
  {
   "cell_type": "code",
   "execution_count": 200,
   "id": "a5ea1e35-1b14-41d3-b626-16db953e9366",
   "metadata": {},
   "outputs": [],
   "source": [
    "# Payment_Behaviour\n",
    "# Define valid patterns \n",
    "valid_pattern = r\"^(High|Low)_spent_(Small|Medium)_value_payments$\"\n",
    "\n",
    "# Clean Payment_Behaviour\n",
    "df_cleaned = df_cleaned.withColumn(\n",
    "    \"Payment_Behaviour\",\n",
    "    when(col(\"Payment_Behaviour\").rlike(valid_pattern), col(\"Payment_Behaviour\"))\n",
    "    .otherwise(None)  # Set invalid values to null\n",
    ")"
   ]
  },
  {
   "cell_type": "code",
   "execution_count": 201,
   "id": "eef95d1e-3890-488e-9cff-d4d8dce4886a",
   "metadata": {},
   "outputs": [],
   "source": [
    "# Monthly_Balance\n",
    "# Clean non-numeric characters (keep digits and dot)\n",
    "df_cleaned = df_cleaned.withColumn(\n",
    "    \"Monthly_Balance\",\n",
    "    regexp_replace(col(\"Monthly_Balance\"), r\"[^\\d.]\", \"\").cast(\"double\")\n",
    ")\n",
    "\n",
    "# Round to 2 decimal places\n",
    "df_cleaned = df_cleaned.withColumn(\n",
    "    \"Monthly_Balance\",\n",
    "    round(col(\"Monthly_Balance\"), 2)\n",
    ")"
   ]
  },
  {
   "cell_type": "code",
   "execution_count": 202,
   "id": "723b4da7-9e09-481c-ad32-138ebcf77cae",
   "metadata": {},
   "outputs": [
    {
     "data": {
      "text/plain": [
       "['Customer_ID',\n",
       " 'Annual_Income',\n",
       " 'Monthly_Inhand_Salary',\n",
       " 'Num_Bank_Accounts',\n",
       " 'Num_Credit_Card',\n",
       " 'Interest_Rate',\n",
       " 'Num_of_Loan',\n",
       " 'Type_of_Loan',\n",
       " 'Delay_from_due_date',\n",
       " 'Num_of_Delayed_Payment',\n",
       " 'Changed_Credit_Limit',\n",
       " 'Num_Credit_Inquiries',\n",
       " 'Credit_Mix',\n",
       " 'Outstanding_Debt',\n",
       " 'Credit_Utilization_Ratio',\n",
       " 'Credit_History_Age',\n",
       " 'Payment_of_Min_Amount',\n",
       " 'Total_EMI_per_month',\n",
       " 'Amount_invested_monthly',\n",
       " 'Payment_Behaviour',\n",
       " 'Monthly_Balance',\n",
       " 'snapshot_date']"
      ]
     },
     "execution_count": 202,
     "metadata": {},
     "output_type": "execute_result"
    }
   ],
   "source": [
    "df_cleaned.columns"
   ]
  },
  {
   "cell_type": "code",
   "execution_count": 203,
   "id": "899a3d8a-dba2-4577-9c57-992919cace1f",
   "metadata": {},
   "outputs": [
    {
     "name": "stdout",
     "output_type": "stream",
     "text": [
      "+-----------+-------------+---------------------+-----------------+---------------+-------------+-----------+--------------------+-------------------+----------------------+--------------------+--------------------+----------+----------------+------------------------+------------------+---------------------+-------------------+-----------------------+--------------------+---------------+-------------+\n",
      "|Customer_ID|Annual_Income|Monthly_Inhand_Salary|Num_Bank_Accounts|Num_Credit_Card|Interest_Rate|Num_of_Loan|        Type_of_Loan|Delay_from_due_date|Num_of_Delayed_Payment|Changed_Credit_Limit|Num_Credit_Inquiries|Credit_Mix|Outstanding_Debt|Credit_Utilization_Ratio|Credit_History_Age|Payment_of_Min_Amount|Total_EMI_per_month|Amount_invested_monthly|   Payment_Behaviour|Monthly_Balance|snapshot_date|\n",
      "+-----------+-------------+---------------------+-----------------+---------------+-------------+-----------+--------------------+-------------------+----------------------+--------------------+--------------------+----------+----------------+------------------------+------------------+---------------------+-------------------+-----------------------+--------------------+---------------+-------------+\n",
      "| CUS_0x1000|     30625.94|              2706.16|                6|              5|           27|          2|, Credit-Builder ...|                 57|                    26|                1.63|                  11|       Bad|         1562.91|                   30.08|             10.75|                  Yes|              42.94|                  77.31|High_spent_Medium...|         400.36|   2023-05-01|\n",
      "| CUS_0x1009|     52312.68|              4250.39|                6|              5|           17|          4|, Credit-Builder ...|                  5|                    18|                9.73|                   4|      NULL|          202.68|                   40.29|              31.0|                  Yes|             108.37|                  58.66|High_spent_Medium...|         508.01|   2025-01-01|\n",
      "| CUS_0x100b|    113781.39|              9549.78|                1|              4|            1|          0|                    |                 14|                     8|                8.34|                   4|      Good|          1030.2|                   28.59|             15.83|                   No|                0.0|                 617.08|High_spent_Small_...|          597.9|   2024-03-01|\n",
      "| CUS_0x1011|     58918.47|              5208.87|                3|              3|           17|          3|, Credit-Builder ...|                 27|                    13|               14.42|                   7|  Standard|          473.14|                   27.83|             15.83|                  Yes|             123.43|                 383.35|Low_spent_Medium_...|          294.1|   2023-11-01|\n",
      "| CUS_0x1013|     98620.98|              7962.42|                3|              3|            6|          3|, Debt Consolidat...|                 12|                     9|                1.33|                   3|      Good|         1233.51|                   26.52|             17.83|                   No|             228.02|                 332.33|High_spent_Medium...|         485.89|   2023-12-01|\n",
      "| CUS_0x1015|     46951.02|              3725.59|                7|              4|           16|          0|                    |                  8|                     9|               15.83|                   9|  Standard|          340.22|                   38.68|             21.42|                 NULL|                0.0|                 437.43|Low_spent_Small_v...|         225.12|   2023-08-01|\n",
      "| CUS_0x1018|     61194.81|              5014.57|                7|              7|           23|          8|, Credit-Builder ...|                 19|                    22|               28.63|                   8|       Bad|         2773.09|                   27.27|             14.25|                  Yes|             225.37|                 166.53|High_spent_Medium...|         359.56|   2023-11-01|\n",
      "| CUS_0x1026|    170614.28|             14463.86|                2|              6|            9|          2|, Auto Loan, Payd...|                  0|                     5|                0.73|                   3|      Good|          849.69|                   31.76|             20.67|                   No|             208.91|                 184.28|High_spent_Medium...|         1303.2|   2023-10-01|\n",
      "| CUS_0x102d|     89064.52|              7256.04|                5|              3|            1|          1|       Mortgage Loan|                  6|                     5|                6.37|                   3|      NULL|          648.36|                   30.57|             30.25|                   No|              37.57|                 296.09|High_spent_Medium...|         641.94|   2024-01-01|\n",
      "| CUS_0x102e|     50807.44|              4197.95|                8|              4|           11|          4|, Home Equity Loa...|                 12|                     9|                 2.6|                   4|      NULL|          869.59|                   30.31|             22.83|                 NULL|              88.76|                  65.28|High_spent_Medium...|         515.76|   2024-04-01|\n",
      "+-----------+-------------+---------------------+-----------------+---------------+-------------+-----------+--------------------+-------------------+----------------------+--------------------+--------------------+----------+----------------+------------------------+------------------+---------------------+-------------------+-----------------------+--------------------+---------------+-------------+\n",
      "only showing top 10 rows\n",
      "\n"
     ]
    }
   ],
   "source": [
    "df_cleaned.show(10)"
   ]
  },
  {
   "cell_type": "code",
   "execution_count": 204,
   "id": "d9443388-2a2b-4784-acfd-6f9a1bbf9521",
   "metadata": {},
   "outputs": [],
   "source": [
    "# clean data: enforce schema / data type\n",
    "# Dictionary specifying columns and their desired datatypes\n",
    "column_type_map = {\n",
    "    \"Customer_ID\": StringType(),\n",
    "    \"Annual_Income\": DoubleType(),\n",
    "    \"Monthly_Inhand_Salary\": DoubleType(),\n",
    "    \"Num_Bank_Accounts\": IntegerType(),\n",
    "    \"Num_Credit_Card\": IntegerType(),\n",
    "    \"Interest_Rate\": IntegerType(),\n",
    "    \"Type_of_Loan\": StringType(),\n",
    "    \"Delay_from_due_date\": IntegerType(),\n",
    "    \"Num_of_Delayed_Payment\": IntegerType(),\n",
    "    \"Changed_Credit_Limit\": DoubleType(),\n",
    "    \"Num_Credit_Inquiries\": IntegerType(),\n",
    "    \"Credit_Mix\": StringType(),\n",
    "    \"Outstanding_Debt\": DoubleType(),\n",
    "    \"Credit_Utilization_Ratio\": DoubleType(),\n",
    "    \"Credit_History_Age\": DoubleType(),\n",
    "    \"Payment_of_Min_Amount\": StringType(),\n",
    "    \"Total_EMI_per_month\": DoubleType(),\n",
    "    \"Amount_invested_monthly\": DoubleType(),\n",
    "    \"Payment_Behaviour\": StringType(),\n",
    "    \"Monthly_Balance\": DoubleType(),      \n",
    "    \"snapshot_date\": DateType(),\n",
    "}\n",
    "\n",
    "#change to new dtype\n",
    "for column, new_type in column_type_map.items():\n",
    "    df = df_cleaned.withColumn(column, col(column).cast(new_type))"
   ]
  },
  {
   "cell_type": "markdown",
   "id": "1ad719d4-1bb2-4518-bb3e-1c35bfc611be",
   "metadata": {},
   "source": [
    "### Gold"
   ]
  },
  {
   "cell_type": "markdown",
   "id": "19e773a6-345c-4224-bd50-e3d6a28cf359",
   "metadata": {},
   "source": [
    "### Imputation"
   ]
  },
  {
   "cell_type": "code",
   "execution_count": 205,
   "id": "c42cb470-cb53-4b7f-ae65-02a4e7e15945",
   "metadata": {},
   "outputs": [],
   "source": [
    "# List of excluded columns\n",
    "excluded_cols = [\"Customer_ID\", \"snapshot_date\"]\n",
    "\n",
    "# Identify column types (exclude the excluded columns)\n",
    "string_cols = [c for c, t in column_type_map.items() if isinstance(t, StringType) and c not in excluded_cols]\n",
    "numeric_cols = [c for c, t in column_type_map.items() if isinstance(t, (IntegerType, DoubleType)) and c not in excluded_cols]\n",
    "\n",
    "# Impute empty or space-only strings with the most frequent value\n",
    "df_imputed = df\n",
    "\n",
    "for col_name in string_cols:\n",
    "    # Find the most frequent (mode) value in the column\n",
    "    mode_row = df_imputed.groupBy(col_name).count().orderBy(F.desc(\"count\")).first()\n",
    "    mode_val = mode_row[0] if mode_row and mode_row[0] is not None else None\n",
    "\n",
    "    # If a mode is found, replace empty or space-only strings with the mode value\n",
    "    if mode_val:\n",
    "        df_imputed = df_imputed.withColumn(\n",
    "            col_name,\n",
    "            when((col(col_name).isNull()) | (trim(col(col_name)) == \"\"), mode_val).otherwise(col(col_name))\n",
    "        )\n",
    "    else:\n",
    "        # If no mode found (which shouldn't happen), replace with \"Unknown\"\n",
    "        df_imputed = df_imputed.withColumn(\n",
    "            col_name,\n",
    "            when((col(col_name).isNull()) | (trim(col(col_name)) == \"\"), \"Unknown\").otherwise(col(col_name))\n",
    "        )\n",
    "\n",
    "# Impute numeric columns with the median\n",
    "for col_name in numeric_cols:\n",
    "    median = df_imputed.approxQuantile(col_name, [0.5], 0.01)[0]\n",
    "    df_imputed = df_imputed.fillna({col_name: median})"
   ]
  },
  {
   "cell_type": "markdown",
   "id": "f6f05f95-ceab-4ccf-990f-ccf3274ea5ac",
   "metadata": {},
   "source": [
    "### OHE"
   ]
  },
  {
   "cell_type": "code",
   "execution_count": 206,
   "id": "6d71177c-c47e-43f2-a140-453e298bce82",
   "metadata": {},
   "outputs": [],
   "source": [
    "categorical_cols = [\"Type_of_Loan\", \"Credit_Mix\", \"Payment_Behaviour\"]\n",
    "\n",
    "# Step 1: Index and one-hot encode (with dropLast=True to mimic drop_first=True)\n",
    "indexers = [StringIndexer(inputCol=c, outputCol=c+\"_index\", handleInvalid=\"keep\") for c in categorical_cols]\n",
    "encoders = [OneHotEncoder(inputCol=c+\"_index\", outputCol=c+\"_ohe\", dropLast=True) for c in categorical_cols]\n",
    "\n",
    "pipeline = Pipeline(stages=indexers + encoders)\n",
    "model = pipeline.fit(df_imputed)\n",
    "df_encoded = model.transform(df_imputed)\n",
    "\n",
    "# Step 2: Convert vector to array\n",
    "vector_to_array_udf = udf(lambda v: v.toArray().tolist(), ArrayType(DoubleType()))\n",
    "\n",
    "# Step 3: Split each one-hot vector into binary columns\n",
    "for c in categorical_cols:\n",
    "    arr_col = c + \"_arr\"\n",
    "    df_encoded = df_encoded.withColumn(arr_col, vector_to_array_udf(col(c + \"_ohe\")))\n",
    "\n",
    "    # Get array length to know number of binary columns\n",
    "    num_categories = df_encoded.select(arr_col).head()[arr_col].__len__()\n",
    "\n",
    "    # Create binary columns (0/1)\n",
    "    for i in range(num_categories):\n",
    "        df_encoded = df_encoded.withColumn(f\"{c}_{i}\", col(arr_col)[i].cast(\"int\"))\n",
    "\n",
    "    # Drop original column + intermediates\n",
    "    df_encoded = df_encoded.drop(c, c + \"_index\", c + \"_ohe\", arr_col)"
   ]
  },
  {
   "cell_type": "markdown",
   "id": "c70974ec-38ef-4016-899e-48c563e78f6b",
   "metadata": {},
   "source": [
    "### Engineer features"
   ]
  },
  {
   "cell_type": "code",
   "execution_count": 208,
   "id": "449e9f94-193c-4c8f-b859-5eabbac9de1b",
   "metadata": {},
   "outputs": [],
   "source": [
    "# recent delay is > 10 days, else 0\n",
    "df = df_encoded.withColumn(\n",
    "    \"Recent_Delays\",\n",
    "    when(col(\"Delay_from_due_date\") > 10, 1).otherwise(0)\n",
    ")\n",
    "\n",
    "df = df.withColumn(\n",
    "    \"Income_to_Debt_Ratio\",\n",
    "    (col(\"Annual_Income\") / col(\"Outstanding_Debt\"))\n",
    ")\n",
    "\n",
    "df = df.withColumn(\n",
    "    \"EMI_to_Income_Ratio\",\n",
    "    (col(\"Total_EMI_per_month\") / (col(\"Annual_Income\") / 12))\n",
    ")\n",
    "\n",
    "df = df.withColumn(\n",
    "    \"Monthly_Saving\",\n",
    "    col(\"Monthly_Inhand_Salary\") - col(\"Total_EMI_per_month\") - col(\"Amount_invested_monthly\")\n",
    ")\n",
    "\n",
    "# Add Num_Bank_Accounts + Num_Credit_Card and flag if above threshold\n",
    "df = df.withColumn(\n",
    "    \"Is_Multi_Borrower\",\n",
    "    when((col(\"Num_Bank_Accounts\") + col(\"Num_Credit_Card\")) > 6, 1).otherwise(0)\n",
    ")\n",
    "\n",
    "# Round to 2dp\n",
    "df = df.withColumn(\"Income_to_Debt_Ratio\", round(col(\"Income_to_Debt_Ratio\"), 2)) \\\n",
    "       .withColumn(\"EMI_to_Income_Ratio\", round(col(\"EMI_to_Income_Ratio\"), 2)) \\\n",
    "       .withColumn(\"Monthly_Saving\", round(col(\"Monthly_Saving\"), 2))"
   ]
  },
  {
   "cell_type": "markdown",
   "id": "a49cf635-1626-4cd1-9b47-3047add0fe3f",
   "metadata": {},
   "source": [
    "### Get latest snapshot"
   ]
  },
  {
   "cell_type": "code",
   "execution_count": 209,
   "id": "4ad60431-18e7-467c-baab-a49e590760bf",
   "metadata": {},
   "outputs": [],
   "source": [
    "# Get only latest snapshot for ML\n",
    "# Ensure snapshot_date is in date format\n",
    "df_cleaned = df.withColumn(\"snapshot_date\", to_date(\"snapshot_date\", \"yyyy-MM-dd\"))\n",
    "\n",
    "# Define a window partitioned by Customer_ID, ordered by snapshot_date descending\n",
    "window_spec = Window.partitionBy(\"Customer_ID\").orderBy(col(\"snapshot_date\").desc())\n",
    "\n",
    "# Add row_number to rank records\n",
    "ranked_df = df_cleaned.withColumn(\"rn\", row_number().over(window_spec))\n",
    "\n",
    "# Filter only latest records (row_number == 1)\n",
    "df = ranked_df.filter(col(\"rn\") == 1).drop(\"rn\")"
   ]
  },
  {
   "cell_type": "markdown",
   "id": "77707694-fc6f-48a0-a8d8-19bdae5f24d7",
   "metadata": {},
   "source": [
    "### Generate Bronze, Silver, Gold"
   ]
  },
  {
   "cell_type": "code",
   "execution_count": 210,
   "id": "3f803a3f-958d-445d-8d64-4acce24805fc",
   "metadata": {},
   "outputs": [],
   "source": [
    "# create bronze datalake\n",
    "bronze_features_financials_directory = \"datamart/bronze/features_financials/\"\n",
    "\n",
    "if not os.path.exists(bronze_features_financials_directory):\n",
    "    os.makedirs(bronze_features_financials_directory)"
   ]
  },
  {
   "cell_type": "code",
   "execution_count": 212,
   "id": "054095a8-41b3-417d-a4fb-392bf93a063b",
   "metadata": {},
   "outputs": [
    {
     "name": "stdout",
     "output_type": "stream",
     "text": [
      "2023-01-01row count: 530\n",
      "saved to: datamart/bronze/features_financials/bronze_features_financials_daily_2023_01_01.csv\n",
      "2023-02-01row count: 501\n",
      "saved to: datamart/bronze/features_financials/bronze_features_financials_daily_2023_02_01.csv\n",
      "2023-03-01row count: 506\n",
      "saved to: datamart/bronze/features_financials/bronze_features_financials_daily_2023_03_01.csv\n",
      "2023-04-01row count: 510\n",
      "saved to: datamart/bronze/features_financials/bronze_features_financials_daily_2023_04_01.csv\n",
      "2023-05-01row count: 521\n",
      "saved to: datamart/bronze/features_financials/bronze_features_financials_daily_2023_05_01.csv\n",
      "2023-06-01row count: 517\n",
      "saved to: datamart/bronze/features_financials/bronze_features_financials_daily_2023_06_01.csv\n",
      "2023-07-01row count: 471\n",
      "saved to: datamart/bronze/features_financials/bronze_features_financials_daily_2023_07_01.csv\n",
      "2023-08-01row count: 481\n",
      "saved to: datamart/bronze/features_financials/bronze_features_financials_daily_2023_08_01.csv\n",
      "2023-09-01row count: 454\n",
      "saved to: datamart/bronze/features_financials/bronze_features_financials_daily_2023_09_01.csv\n",
      "2023-10-01row count: 487\n",
      "saved to: datamart/bronze/features_financials/bronze_features_financials_daily_2023_10_01.csv\n",
      "2023-11-01row count: 491\n",
      "saved to: datamart/bronze/features_financials/bronze_features_financials_daily_2023_11_01.csv\n",
      "2023-12-01row count: 489\n",
      "saved to: datamart/bronze/features_financials/bronze_features_financials_daily_2023_12_01.csv\n",
      "2024-01-01row count: 485\n",
      "saved to: datamart/bronze/features_financials/bronze_features_financials_daily_2024_01_01.csv\n",
      "2024-02-01row count: 518\n",
      "saved to: datamart/bronze/features_financials/bronze_features_financials_daily_2024_02_01.csv\n",
      "2024-03-01row count: 511\n",
      "saved to: datamart/bronze/features_financials/bronze_features_financials_daily_2024_03_01.csv\n",
      "2024-04-01row count: 513\n",
      "saved to: datamart/bronze/features_financials/bronze_features_financials_daily_2024_04_01.csv\n",
      "2024-05-01row count: 491\n",
      "saved to: datamart/bronze/features_financials/bronze_features_financials_daily_2024_05_01.csv\n",
      "2024-06-01row count: 498\n",
      "saved to: datamart/bronze/features_financials/bronze_features_financials_daily_2024_06_01.csv\n",
      "2024-07-01row count: 505\n",
      "saved to: datamart/bronze/features_financials/bronze_features_financials_daily_2024_07_01.csv\n",
      "2024-08-01row count: 543\n",
      "saved to: datamart/bronze/features_financials/bronze_features_financials_daily_2024_08_01.csv\n",
      "2024-09-01row count: 493\n",
      "saved to: datamart/bronze/features_financials/bronze_features_financials_daily_2024_09_01.csv\n",
      "2024-10-01row count: 456\n",
      "saved to: datamart/bronze/features_financials/bronze_features_financials_daily_2024_10_01.csv\n",
      "2024-11-01row count: 488\n",
      "saved to: datamart/bronze/features_financials/bronze_features_financials_daily_2024_11_01.csv\n",
      "2024-12-01row count: 515\n",
      "saved to: datamart/bronze/features_financials/bronze_features_financials_daily_2024_12_01.csv\n"
     ]
    }
   ],
   "source": [
    "# run bronze backfill\n",
    "for date_str in dates_str_lst:\n",
    "    utils.features_financials_bronze_table.features_financials_bronze_table(date_str, bronze_features_financials_directory, spark)"
   ]
  },
  {
   "cell_type": "code",
   "execution_count": 214,
   "id": "ce3e5784-4f99-4fe4-9b3c-4eeef298dd42",
   "metadata": {},
   "outputs": [],
   "source": [
    "# create silver datalake\n",
    "silver_features_financials_directory = \"datamart/silver/features_financials/\"\n",
    "\n",
    "if not os.path.exists(silver_features_financials_directory):\n",
    "    os.makedirs(silver_features_financials_directory)"
   ]
  },
  {
   "cell_type": "code",
   "execution_count": 215,
   "id": "6e73d67e-9c18-4426-810b-e8b73376796f",
   "metadata": {},
   "outputs": [
    {
     "name": "stdout",
     "output_type": "stream",
     "text": [
      "loaded from: datamart/bronze/features_financials/bronze_features_financials_daily_2023_01_01.csv row count: 530\n"
     ]
    },
    {
     "name": "stderr",
     "output_type": "stream",
     "text": [
      "                                                                                "
     ]
    },
    {
     "name": "stdout",
     "output_type": "stream",
     "text": [
      "saved to: datamart/silver/features_financials/silver_features_financials_daily_2023_01_01.parquet\n",
      "loaded from: datamart/bronze/features_financials/bronze_features_financials_daily_2023_02_01.csv row count: 501\n",
      "saved to: datamart/silver/features_financials/silver_features_financials_daily_2023_02_01.parquet\n",
      "loaded from: datamart/bronze/features_financials/bronze_features_financials_daily_2023_03_01.csv row count: 506\n",
      "saved to: datamart/silver/features_financials/silver_features_financials_daily_2023_03_01.parquet\n",
      "loaded from: datamart/bronze/features_financials/bronze_features_financials_daily_2023_04_01.csv row count: 510\n",
      "saved to: datamart/silver/features_financials/silver_features_financials_daily_2023_04_01.parquet\n",
      "loaded from: datamart/bronze/features_financials/bronze_features_financials_daily_2023_05_01.csv row count: 521\n",
      "saved to: datamart/silver/features_financials/silver_features_financials_daily_2023_05_01.parquet\n",
      "loaded from: datamart/bronze/features_financials/bronze_features_financials_daily_2023_06_01.csv row count: 517\n",
      "saved to: datamart/silver/features_financials/silver_features_financials_daily_2023_06_01.parquet\n",
      "loaded from: datamart/bronze/features_financials/bronze_features_financials_daily_2023_07_01.csv row count: 471\n",
      "saved to: datamart/silver/features_financials/silver_features_financials_daily_2023_07_01.parquet\n",
      "loaded from: datamart/bronze/features_financials/bronze_features_financials_daily_2023_08_01.csv row count: 481\n",
      "saved to: datamart/silver/features_financials/silver_features_financials_daily_2023_08_01.parquet\n",
      "loaded from: datamart/bronze/features_financials/bronze_features_financials_daily_2023_09_01.csv row count: 454\n",
      "saved to: datamart/silver/features_financials/silver_features_financials_daily_2023_09_01.parquet\n",
      "loaded from: datamart/bronze/features_financials/bronze_features_financials_daily_2023_10_01.csv row count: 487\n",
      "saved to: datamart/silver/features_financials/silver_features_financials_daily_2023_10_01.parquet\n",
      "loaded from: datamart/bronze/features_financials/bronze_features_financials_daily_2023_11_01.csv row count: 491\n",
      "saved to: datamart/silver/features_financials/silver_features_financials_daily_2023_11_01.parquet\n",
      "loaded from: datamart/bronze/features_financials/bronze_features_financials_daily_2023_12_01.csv row count: 489\n",
      "saved to: datamart/silver/features_financials/silver_features_financials_daily_2023_12_01.parquet\n",
      "loaded from: datamart/bronze/features_financials/bronze_features_financials_daily_2024_01_01.csv row count: 485\n",
      "saved to: datamart/silver/features_financials/silver_features_financials_daily_2024_01_01.parquet\n",
      "loaded from: datamart/bronze/features_financials/bronze_features_financials_daily_2024_02_01.csv row count: 518\n",
      "saved to: datamart/silver/features_financials/silver_features_financials_daily_2024_02_01.parquet\n",
      "loaded from: datamart/bronze/features_financials/bronze_features_financials_daily_2024_03_01.csv row count: 511\n",
      "saved to: datamart/silver/features_financials/silver_features_financials_daily_2024_03_01.parquet\n",
      "loaded from: datamart/bronze/features_financials/bronze_features_financials_daily_2024_04_01.csv row count: 513\n",
      "saved to: datamart/silver/features_financials/silver_features_financials_daily_2024_04_01.parquet\n",
      "loaded from: datamart/bronze/features_financials/bronze_features_financials_daily_2024_05_01.csv row count: 491\n",
      "saved to: datamart/silver/features_financials/silver_features_financials_daily_2024_05_01.parquet\n",
      "loaded from: datamart/bronze/features_financials/bronze_features_financials_daily_2024_06_01.csv row count: 498\n",
      "saved to: datamart/silver/features_financials/silver_features_financials_daily_2024_06_01.parquet\n",
      "loaded from: datamart/bronze/features_financials/bronze_features_financials_daily_2024_07_01.csv row count: 505\n",
      "saved to: datamart/silver/features_financials/silver_features_financials_daily_2024_07_01.parquet\n",
      "loaded from: datamart/bronze/features_financials/bronze_features_financials_daily_2024_08_01.csv row count: 543\n",
      "saved to: datamart/silver/features_financials/silver_features_financials_daily_2024_08_01.parquet\n",
      "loaded from: datamart/bronze/features_financials/bronze_features_financials_daily_2024_09_01.csv row count: 493\n",
      "saved to: datamart/silver/features_financials/silver_features_financials_daily_2024_09_01.parquet\n",
      "loaded from: datamart/bronze/features_financials/bronze_features_financials_daily_2024_10_01.csv row count: 456\n",
      "saved to: datamart/silver/features_financials/silver_features_financials_daily_2024_10_01.parquet\n",
      "loaded from: datamart/bronze/features_financials/bronze_features_financials_daily_2024_11_01.csv row count: 488\n",
      "saved to: datamart/silver/features_financials/silver_features_financials_daily_2024_11_01.parquet\n",
      "loaded from: datamart/bronze/features_financials/bronze_features_financials_daily_2024_12_01.csv row count: 515\n",
      "saved to: datamart/silver/features_financials/silver_features_financials_daily_2024_12_01.parquet\n"
     ]
    }
   ],
   "source": [
    "# run silver backfill\n",
    "for date_str in dates_str_lst:\n",
    "    utils.features_financials_silver_table.features_financials_silver_table(date_str, bronze_features_financials_directory, silver_features_financials_directory, spark)"
   ]
  },
  {
   "cell_type": "code",
   "execution_count": 216,
   "id": "77a1056b-84fe-41c4-abe2-4825acdf613f",
   "metadata": {},
   "outputs": [],
   "source": [
    "# create gold datalake\n",
    "gold_features_financials_directory = \"datamart/gold/features_financials/\"\n",
    "\n",
    "if not os.path.exists(gold_features_financials_directory):\n",
    "    os.makedirs(gold_features_financials_directory)"
   ]
  },
  {
   "cell_type": "code",
   "execution_count": 218,
   "id": "a4d48e8b-3d8a-4d0b-9993-cccd8736b16b",
   "metadata": {},
   "outputs": [
    {
     "name": "stdout",
     "output_type": "stream",
     "text": [
      "loaded from: datamart/silver/features_financials/silver_features_financials_daily_2023_01_01.parquet row count: 530\n"
     ]
    },
    {
     "name": "stderr",
     "output_type": "stream",
     "text": [
      "                                                                                "
     ]
    },
    {
     "name": "stdout",
     "output_type": "stream",
     "text": [
      "saved to: datamart/gold/features_financials/gold_features_financials_daily_2023_01_01.parquet\n",
      "loaded from: datamart/silver/features_financials/silver_features_financials_daily_2023_02_01.parquet row count: 501\n",
      "saved to: datamart/gold/features_financials/gold_features_financials_daily_2023_02_01.parquet\n",
      "loaded from: datamart/silver/features_financials/silver_features_financials_daily_2023_03_01.parquet row count: 506\n"
     ]
    },
    {
     "name": "stderr",
     "output_type": "stream",
     "text": [
      "                                                                                "
     ]
    },
    {
     "name": "stdout",
     "output_type": "stream",
     "text": [
      "saved to: datamart/gold/features_financials/gold_features_financials_daily_2023_03_01.parquet\n",
      "loaded from: datamart/silver/features_financials/silver_features_financials_daily_2023_04_01.parquet row count: 510\n"
     ]
    },
    {
     "name": "stderr",
     "output_type": "stream",
     "text": [
      "                                                                                "
     ]
    },
    {
     "name": "stdout",
     "output_type": "stream",
     "text": [
      "saved to: datamart/gold/features_financials/gold_features_financials_daily_2023_04_01.parquet\n",
      "loaded from: datamart/silver/features_financials/silver_features_financials_daily_2023_05_01.parquet row count: 521\n",
      "saved to: datamart/gold/features_financials/gold_features_financials_daily_2023_05_01.parquet\n",
      "loaded from: datamart/silver/features_financials/silver_features_financials_daily_2023_06_01.parquet row count: 517\n"
     ]
    },
    {
     "name": "stderr",
     "output_type": "stream",
     "text": [
      "                                                                                "
     ]
    },
    {
     "name": "stdout",
     "output_type": "stream",
     "text": [
      "saved to: datamart/gold/features_financials/gold_features_financials_daily_2023_06_01.parquet\n",
      "loaded from: datamart/silver/features_financials/silver_features_financials_daily_2023_07_01.parquet row count: 471\n",
      "saved to: datamart/gold/features_financials/gold_features_financials_daily_2023_07_01.parquet\n",
      "loaded from: datamart/silver/features_financials/silver_features_financials_daily_2023_08_01.parquet row count: 481\n",
      "saved to: datamart/gold/features_financials/gold_features_financials_daily_2023_08_01.parquet\n",
      "loaded from: datamart/silver/features_financials/silver_features_financials_daily_2023_09_01.parquet row count: 454\n",
      "saved to: datamart/gold/features_financials/gold_features_financials_daily_2023_09_01.parquet\n",
      "loaded from: datamart/silver/features_financials/silver_features_financials_daily_2023_10_01.parquet row count: 487\n"
     ]
    },
    {
     "name": "stderr",
     "output_type": "stream",
     "text": [
      "                                                                                "
     ]
    },
    {
     "name": "stdout",
     "output_type": "stream",
     "text": [
      "saved to: datamart/gold/features_financials/gold_features_financials_daily_2023_10_01.parquet\n",
      "loaded from: datamart/silver/features_financials/silver_features_financials_daily_2023_11_01.parquet row count: 491\n"
     ]
    },
    {
     "name": "stderr",
     "output_type": "stream",
     "text": [
      "                                                                                "
     ]
    },
    {
     "name": "stdout",
     "output_type": "stream",
     "text": [
      "saved to: datamart/gold/features_financials/gold_features_financials_daily_2023_11_01.parquet\n",
      "loaded from: datamart/silver/features_financials/silver_features_financials_daily_2023_12_01.parquet row count: 489\n"
     ]
    },
    {
     "name": "stderr",
     "output_type": "stream",
     "text": [
      "                                                                                "
     ]
    },
    {
     "name": "stdout",
     "output_type": "stream",
     "text": [
      "saved to: datamart/gold/features_financials/gold_features_financials_daily_2023_12_01.parquet\n",
      "loaded from: datamart/silver/features_financials/silver_features_financials_daily_2024_01_01.parquet row count: 485\n"
     ]
    },
    {
     "name": "stderr",
     "output_type": "stream",
     "text": [
      "                                                                                "
     ]
    },
    {
     "name": "stdout",
     "output_type": "stream",
     "text": [
      "saved to: datamart/gold/features_financials/gold_features_financials_daily_2024_01_01.parquet\n",
      "loaded from: datamart/silver/features_financials/silver_features_financials_daily_2024_02_01.parquet row count: 518\n"
     ]
    },
    {
     "name": "stderr",
     "output_type": "stream",
     "text": [
      "                                                                                "
     ]
    },
    {
     "name": "stdout",
     "output_type": "stream",
     "text": [
      "saved to: datamart/gold/features_financials/gold_features_financials_daily_2024_02_01.parquet\n",
      "loaded from: datamart/silver/features_financials/silver_features_financials_daily_2024_03_01.parquet row count: 511\n"
     ]
    },
    {
     "name": "stderr",
     "output_type": "stream",
     "text": [
      "                                                                                "
     ]
    },
    {
     "name": "stdout",
     "output_type": "stream",
     "text": [
      "saved to: datamart/gold/features_financials/gold_features_financials_daily_2024_03_01.parquet\n",
      "loaded from: datamart/silver/features_financials/silver_features_financials_daily_2024_04_01.parquet row count: 513\n"
     ]
    },
    {
     "name": "stderr",
     "output_type": "stream",
     "text": [
      "                                                                                "
     ]
    },
    {
     "name": "stdout",
     "output_type": "stream",
     "text": [
      "saved to: datamart/gold/features_financials/gold_features_financials_daily_2024_04_01.parquet\n",
      "loaded from: datamart/silver/features_financials/silver_features_financials_daily_2024_05_01.parquet row count: 491\n",
      "saved to: datamart/gold/features_financials/gold_features_financials_daily_2024_05_01.parquet\n",
      "loaded from: datamart/silver/features_financials/silver_features_financials_daily_2024_06_01.parquet row count: 498\n",
      "saved to: datamart/gold/features_financials/gold_features_financials_daily_2024_06_01.parquet\n",
      "loaded from: datamart/silver/features_financials/silver_features_financials_daily_2024_07_01.parquet row count: 505\n"
     ]
    },
    {
     "name": "stderr",
     "output_type": "stream",
     "text": [
      "                                                                                "
     ]
    },
    {
     "name": "stdout",
     "output_type": "stream",
     "text": [
      "saved to: datamart/gold/features_financials/gold_features_financials_daily_2024_07_01.parquet\n",
      "loaded from: datamart/silver/features_financials/silver_features_financials_daily_2024_08_01.parquet row count: 543\n"
     ]
    },
    {
     "name": "stderr",
     "output_type": "stream",
     "text": [
      "                                                                                "
     ]
    },
    {
     "name": "stdout",
     "output_type": "stream",
     "text": [
      "saved to: datamart/gold/features_financials/gold_features_financials_daily_2024_08_01.parquet\n",
      "loaded from: datamart/silver/features_financials/silver_features_financials_daily_2024_09_01.parquet row count: 493\n"
     ]
    },
    {
     "name": "stderr",
     "output_type": "stream",
     "text": [
      "                                                                                "
     ]
    },
    {
     "name": "stdout",
     "output_type": "stream",
     "text": [
      "saved to: datamart/gold/features_financials/gold_features_financials_daily_2024_09_01.parquet\n",
      "loaded from: datamart/silver/features_financials/silver_features_financials_daily_2024_10_01.parquet row count: 456\n"
     ]
    },
    {
     "name": "stderr",
     "output_type": "stream",
     "text": [
      "                                                                                "
     ]
    },
    {
     "name": "stdout",
     "output_type": "stream",
     "text": [
      "saved to: datamart/gold/features_financials/gold_features_financials_daily_2024_10_01.parquet\n",
      "loaded from: datamart/silver/features_financials/silver_features_financials_daily_2024_11_01.parquet row count: 488\n",
      "saved to: datamart/gold/features_financials/gold_features_financials_daily_2024_11_01.parquet\n",
      "loaded from: datamart/silver/features_financials/silver_features_financials_daily_2024_12_01.parquet row count: 515\n"
     ]
    },
    {
     "name": "stderr",
     "output_type": "stream",
     "text": [
      "[Stage 1807:>                                                       (0 + 1) / 1]"
     ]
    },
    {
     "name": "stdout",
     "output_type": "stream",
     "text": [
      "saved to: datamart/gold/features_financials/gold_features_financials_daily_2024_12_01.parquet\n"
     ]
    },
    {
     "name": "stderr",
     "output_type": "stream",
     "text": [
      "                                                                                "
     ]
    }
   ],
   "source": [
    "# run gold backfill\n",
    "for date_str in dates_str_lst:\n",
    "    utils.features_financials_gold_table.features_financials_gold_table(date_str, silver_features_financials_directory, gold_features_financials_directory, spark)"
   ]
  },
  {
   "cell_type": "code",
   "execution_count": null,
   "id": "2d283a9f-86d3-48a7-94ac-02b96a29e0c6",
   "metadata": {},
   "outputs": [],
   "source": []
  }
 ],
 "metadata": {
  "kernelspec": {
   "display_name": "Python 3 (ipykernel)",
   "language": "python",
   "name": "python3"
  },
  "language_info": {
   "codemirror_mode": {
    "name": "ipython",
    "version": 3
   },
   "file_extension": ".py",
   "mimetype": "text/x-python",
   "name": "python",
   "nbconvert_exporter": "python",
   "pygments_lexer": "ipython3",
   "version": "3.12.10"
  }
 },
 "nbformat": 4,
 "nbformat_minor": 5
}
